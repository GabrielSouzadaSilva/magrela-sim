{
 "cells": [
  {
   "cell_type": "markdown",
   "source": [
    "# Exploratory Data Analysis"
   ],
   "metadata": {
    "collapsed": false,
    "pycharm": {
     "name": "#%% md\n"
    }
   }
  },
  {
   "cell_type": "code",
   "execution_count": 1,
   "outputs": [],
   "source": [
    "import sys\n",
    "sys.path.insert(0, \"../src\")"
   ],
   "metadata": {
    "collapsed": false,
    "pycharm": {
     "name": "#%%\n"
    }
   }
  },
  {
   "cell_type": "code",
   "execution_count": 2,
   "outputs": [],
   "source": [
    "from src.eda import Gatherer, Selector"
   ],
   "metadata": {
    "collapsed": false,
    "pycharm": {
     "name": "#%%\n"
    }
   }
  },
  {
   "cell_type": "markdown",
   "source": [
    "## 1. Data Gathering"
   ],
   "metadata": {
    "collapsed": false,
    "pycharm": {
     "name": "#%% md\n"
    }
   }
  },
  {
   "cell_type": "code",
   "execution_count": 3,
   "outputs": [],
   "source": [
    "urls = {\n",
    "    2014: \"https://web.archive.org/web/20170221074848/https://s3.amazonaws.com/pronto-data/open_data_year_one.zip\",\n",
    "    2015: \"https://web.archive.org/web/20220314100611/https://s3.amazonaws.com/pronto-data/open_data_year_two.zip\",\n",
    "    2016: \"https://web.archive.org/web/20170317213337/https://s3.amazonaws.com/pronto-data/open_data_2016-12.zip\"\n",
    "}"
   ],
   "metadata": {
    "collapsed": false,
    "pycharm": {
     "name": "#%%\n"
    }
   }
  },
  {
   "cell_type": "code",
   "execution_count": 4,
   "outputs": [],
   "source": [
    "gatherer = Gatherer(urls=urls)"
   ],
   "metadata": {
    "collapsed": false,
    "pycharm": {
     "name": "#%%\n"
    }
   }
  },
  {
   "cell_type": "code",
   "execution_count": 29,
   "outputs": [
    {
     "data": {
      "text/plain": "Downloading data for 2014:   0%|          | 0/74281286 [00:00<?, ?it/s]",
      "application/vnd.jupyter.widget-view+json": {
       "version_major": 2,
       "version_minor": 0,
       "model_id": "73eb447385774067bc9aa56cdceaa6ae"
      }
     },
     "metadata": {},
     "output_type": "display_data"
    },
    {
     "data": {
      "text/plain": "Downloading data for 2015:   0%|          | 0/5762410 [00:00<?, ?it/s]",
      "application/vnd.jupyter.widget-view+json": {
       "version_major": 2,
       "version_minor": 0,
       "model_id": "44c053e4221648c6b3628c0589467c3b"
      }
     },
     "metadata": {},
     "output_type": "display_data"
    },
    {
     "data": {
      "text/plain": "Downloading data for 2016:   0%|          | 0/6412522 [00:00<?, ?it/s]",
      "application/vnd.jupyter.widget-view+json": {
       "version_major": 2,
       "version_minor": 0,
       "model_id": "977e352993e647b79dc38063908f352a"
      }
     },
     "metadata": {},
     "output_type": "display_data"
    },
    {
     "name": "stdout",
     "output_type": "stream",
     "text": [
      "\r"
     ]
    }
   ],
   "source": [
    "gatherer.download(download_path=\"../data/raw\")"
   ],
   "metadata": {
    "collapsed": false,
    "pycharm": {
     "name": "#%%\n"
    }
   }
  },
  {
   "cell_type": "code",
   "execution_count": 5,
   "outputs": [
    {
     "name": "stdout",
     "output_type": "stream",
     "text": [
      "../data/raw/2016.zip successfully extracted to ../data/extracted/2016\n",
      "../data/raw/2014.zip successfully extracted to ../data/extracted/2014\n",
      "../data/raw/2015.zip successfully extracted to ../data/extracted/2015\n"
     ]
    }
   ],
   "source": [
    "gatherer.extract(download_path=\"../data/raw\", extract_path=\"../data/extracted\")"
   ],
   "metadata": {
    "collapsed": false,
    "pycharm": {
     "name": "#%%\n"
    }
   }
  },
  {
   "cell_type": "markdown",
   "source": [
    "## 2. Data Selection"
   ],
   "metadata": {
    "collapsed": false,
    "pycharm": {
     "name": "#%% md\n"
    }
   }
  },
  {
   "cell_type": "code",
   "execution_count": 3,
   "outputs": [],
   "source": [
    "selector = Selector()"
   ],
   "metadata": {
    "collapsed": false,
    "pycharm": {
     "name": "#%%\n"
    }
   }
  },
  {
   "cell_type": "code",
   "execution_count": 4,
   "outputs": [],
   "source": [
    "selector.read(directory=\"../data/extracted/2014/\")\n",
    "selector.read(directory=\"../data/extracted/2015/\")\n",
    "selector.read(directory=\"../data/extracted/2016/\")"
   ],
   "metadata": {
    "collapsed": false,
    "pycharm": {
     "name": "#%%\n"
    }
   }
  },
  {
   "cell_type": "code",
   "execution_count": 5,
   "outputs": [
    {
     "data": {
      "text/plain": "dict_keys(['2015_station_data', '2015_trip_data', '2015_weather_data', '2015_status_data', '2016_station_data', '2016_weather_data', '2016_trip_data', '2016-12_station_data', '2016-12_trip_data'])"
     },
     "execution_count": 5,
     "metadata": {},
     "output_type": "execute_result"
    }
   ],
   "source": [
    "selector.dfs.keys()"
   ],
   "metadata": {
    "collapsed": false,
    "pycharm": {
     "name": "#%%\n"
    }
   }
  },
  {
   "cell_type": "code",
   "execution_count": 7,
   "outputs": [
    {
     "data": {
      "text/plain": "        trip_id         starttime          stoptime    bikeid  tripduration  \\\n0           431  10/13/2014 10:31  10/13/2014 10:48  SEA00298       985.935   \n1           432  10/13/2014 10:32  10/13/2014 10:48  SEA00195       926.375   \n2           433  10/13/2014 10:33  10/13/2014 10:48  SEA00486       883.831   \n3           434  10/13/2014 10:34  10/13/2014 10:48  SEA00333       865.937   \n4           435  10/13/2014 10:34  10/13/2014 10:49  SEA00202       923.923   \n...         ...               ...               ...       ...           ...   \n142841   156796  10/12/2015 20:41  10/12/2015 20:47  SEA00358       377.183   \n142842   156797  10/12/2015 20:43  10/12/2015 20:48  SEA00399       303.330   \n142843   156798  10/12/2015 21:03  10/12/2015 21:06  SEA00204       165.597   \n142844   156799  10/12/2015 21:35  10/12/2015 21:41  SEA00073       388.576   \n142845   156800  10/12/2015 22:45  10/12/2015 22:51  SEA00033       391.885   \n\n                     from_station_name  \\\n0                  2nd Ave & Spring St   \n1                  2nd Ave & Spring St   \n2                  2nd Ave & Spring St   \n3                  2nd Ave & Spring St   \n4                  2nd Ave & Spring St   \n...                                ...   \n142841            E Pine St & 16th Ave   \n142842        Bellevue Ave & E Pine St   \n142843         Harvard Ave & E Pine St   \n142844               Pine St & 9th Ave   \n142845  NE 42nd St & University Way NE   \n\n                                          to_station_name from_station_id  \\\n0       Occidental Park / Occidental Ave S & S Washing...          CBD-06   \n1       Occidental Park / Occidental Ave S & S Washing...          CBD-06   \n2       Occidental Park / Occidental Ave S & S Washing...          CBD-06   \n3       Occidental Park / Occidental Ave S & S Washing...          CBD-06   \n4       Occidental Park / Occidental Ave S & S Washing...          CBD-06   \n...                                                   ...             ...   \n142841                           Summit Ave & E Denny Way           CH-07   \n142842                     Summit Ave E & E Republican St           CH-12   \n142843                     E Harrison St & Broadway Ave E           CH-09   \n142844                                 3rd Ave & Broad St          SLU-16   \n142845                      Eastlake Ave E & E Allison St           UD-02   \n\n       to_station_id                usertype  gender  birthyear  \n0              PS-04           Annual Member    Male     1960.0  \n1              PS-04           Annual Member    Male     1970.0  \n2              PS-04           Annual Member  Female     1988.0  \n3              PS-04           Annual Member  Female     1977.0  \n4              PS-04           Annual Member    Male     1971.0  \n...              ...                     ...     ...        ...  \n142841         CH-01           Annual Member    Male     1990.0  \n142842         CH-03           Annual Member    Male     1978.0  \n142843         CH-02           Annual Member    Male     1989.0  \n142844         BT-01  Short-Term Pass Holder     NaN        NaN  \n142845         EL-05           Annual Member    Male     1985.0  \n\n[142846 rows x 12 columns]",
      "text/html": "<div>\n<style scoped>\n    .dataframe tbody tr th:only-of-type {\n        vertical-align: middle;\n    }\n\n    .dataframe tbody tr th {\n        vertical-align: top;\n    }\n\n    .dataframe thead th {\n        text-align: right;\n    }\n</style>\n<table border=\"1\" class=\"dataframe\">\n  <thead>\n    <tr style=\"text-align: right;\">\n      <th></th>\n      <th>trip_id</th>\n      <th>starttime</th>\n      <th>stoptime</th>\n      <th>bikeid</th>\n      <th>tripduration</th>\n      <th>from_station_name</th>\n      <th>to_station_name</th>\n      <th>from_station_id</th>\n      <th>to_station_id</th>\n      <th>usertype</th>\n      <th>gender</th>\n      <th>birthyear</th>\n    </tr>\n  </thead>\n  <tbody>\n    <tr>\n      <th>0</th>\n      <td>431</td>\n      <td>10/13/2014 10:31</td>\n      <td>10/13/2014 10:48</td>\n      <td>SEA00298</td>\n      <td>985.935</td>\n      <td>2nd Ave &amp; Spring St</td>\n      <td>Occidental Park / Occidental Ave S &amp; S Washing...</td>\n      <td>CBD-06</td>\n      <td>PS-04</td>\n      <td>Annual Member</td>\n      <td>Male</td>\n      <td>1960.0</td>\n    </tr>\n    <tr>\n      <th>1</th>\n      <td>432</td>\n      <td>10/13/2014 10:32</td>\n      <td>10/13/2014 10:48</td>\n      <td>SEA00195</td>\n      <td>926.375</td>\n      <td>2nd Ave &amp; Spring St</td>\n      <td>Occidental Park / Occidental Ave S &amp; S Washing...</td>\n      <td>CBD-06</td>\n      <td>PS-04</td>\n      <td>Annual Member</td>\n      <td>Male</td>\n      <td>1970.0</td>\n    </tr>\n    <tr>\n      <th>2</th>\n      <td>433</td>\n      <td>10/13/2014 10:33</td>\n      <td>10/13/2014 10:48</td>\n      <td>SEA00486</td>\n      <td>883.831</td>\n      <td>2nd Ave &amp; Spring St</td>\n      <td>Occidental Park / Occidental Ave S &amp; S Washing...</td>\n      <td>CBD-06</td>\n      <td>PS-04</td>\n      <td>Annual Member</td>\n      <td>Female</td>\n      <td>1988.0</td>\n    </tr>\n    <tr>\n      <th>3</th>\n      <td>434</td>\n      <td>10/13/2014 10:34</td>\n      <td>10/13/2014 10:48</td>\n      <td>SEA00333</td>\n      <td>865.937</td>\n      <td>2nd Ave &amp; Spring St</td>\n      <td>Occidental Park / Occidental Ave S &amp; S Washing...</td>\n      <td>CBD-06</td>\n      <td>PS-04</td>\n      <td>Annual Member</td>\n      <td>Female</td>\n      <td>1977.0</td>\n    </tr>\n    <tr>\n      <th>4</th>\n      <td>435</td>\n      <td>10/13/2014 10:34</td>\n      <td>10/13/2014 10:49</td>\n      <td>SEA00202</td>\n      <td>923.923</td>\n      <td>2nd Ave &amp; Spring St</td>\n      <td>Occidental Park / Occidental Ave S &amp; S Washing...</td>\n      <td>CBD-06</td>\n      <td>PS-04</td>\n      <td>Annual Member</td>\n      <td>Male</td>\n      <td>1971.0</td>\n    </tr>\n    <tr>\n      <th>...</th>\n      <td>...</td>\n      <td>...</td>\n      <td>...</td>\n      <td>...</td>\n      <td>...</td>\n      <td>...</td>\n      <td>...</td>\n      <td>...</td>\n      <td>...</td>\n      <td>...</td>\n      <td>...</td>\n      <td>...</td>\n    </tr>\n    <tr>\n      <th>142841</th>\n      <td>156796</td>\n      <td>10/12/2015 20:41</td>\n      <td>10/12/2015 20:47</td>\n      <td>SEA00358</td>\n      <td>377.183</td>\n      <td>E Pine St &amp; 16th Ave</td>\n      <td>Summit Ave &amp; E Denny Way</td>\n      <td>CH-07</td>\n      <td>CH-01</td>\n      <td>Annual Member</td>\n      <td>Male</td>\n      <td>1990.0</td>\n    </tr>\n    <tr>\n      <th>142842</th>\n      <td>156797</td>\n      <td>10/12/2015 20:43</td>\n      <td>10/12/2015 20:48</td>\n      <td>SEA00399</td>\n      <td>303.330</td>\n      <td>Bellevue Ave &amp; E Pine St</td>\n      <td>Summit Ave E &amp; E Republican St</td>\n      <td>CH-12</td>\n      <td>CH-03</td>\n      <td>Annual Member</td>\n      <td>Male</td>\n      <td>1978.0</td>\n    </tr>\n    <tr>\n      <th>142843</th>\n      <td>156798</td>\n      <td>10/12/2015 21:03</td>\n      <td>10/12/2015 21:06</td>\n      <td>SEA00204</td>\n      <td>165.597</td>\n      <td>Harvard Ave &amp; E Pine St</td>\n      <td>E Harrison St &amp; Broadway Ave E</td>\n      <td>CH-09</td>\n      <td>CH-02</td>\n      <td>Annual Member</td>\n      <td>Male</td>\n      <td>1989.0</td>\n    </tr>\n    <tr>\n      <th>142844</th>\n      <td>156799</td>\n      <td>10/12/2015 21:35</td>\n      <td>10/12/2015 21:41</td>\n      <td>SEA00073</td>\n      <td>388.576</td>\n      <td>Pine St &amp; 9th Ave</td>\n      <td>3rd Ave &amp; Broad St</td>\n      <td>SLU-16</td>\n      <td>BT-01</td>\n      <td>Short-Term Pass Holder</td>\n      <td>NaN</td>\n      <td>NaN</td>\n    </tr>\n    <tr>\n      <th>142845</th>\n      <td>156800</td>\n      <td>10/12/2015 22:45</td>\n      <td>10/12/2015 22:51</td>\n      <td>SEA00033</td>\n      <td>391.885</td>\n      <td>NE 42nd St &amp; University Way NE</td>\n      <td>Eastlake Ave E &amp; E Allison St</td>\n      <td>UD-02</td>\n      <td>EL-05</td>\n      <td>Annual Member</td>\n      <td>Male</td>\n      <td>1985.0</td>\n    </tr>\n  </tbody>\n</table>\n<p>142846 rows × 12 columns</p>\n</div>"
     },
     "execution_count": 7,
     "metadata": {},
     "output_type": "execute_result"
    }
   ],
   "source": [
    "selector.dfs[\"2015_trip_data\"]"
   ],
   "metadata": {
    "collapsed": false,
    "pycharm": {
     "name": "#%%\n"
    }
   }
  },
  {
   "cell_type": "code",
   "execution_count": 10,
   "outputs": [
    {
     "data": {
      "text/plain": "        trip_id         starttime          stoptime    bikeid  tripduration  \\\n0           431  10/13/2014 10:31  10/13/2014 10:48  SEA00298       985.935   \n1           432  10/13/2014 10:32  10/13/2014 10:48  SEA00195       926.375   \n2           433  10/13/2014 10:33  10/13/2014 10:48  SEA00486       883.831   \n3           434  10/13/2014 10:34  10/13/2014 10:48  SEA00333       865.937   \n4           435  10/13/2014 10:34  10/13/2014 10:49  SEA00202       923.923   \n...         ...               ...               ...       ...           ...   \n236060   255241   8/31/2016 23:34   8/31/2016 23:45  SEA00201       679.532   \n236061   255242   8/31/2016 23:48     9/1/2016 0:20  SEA00247      1965.418   \n236062   255243   8/31/2016 23:47     9/1/2016 0:20  SEA00300      1951.173   \n236063   255244   8/31/2016 23:49     9/1/2016 0:20  SEA00047      1883.299   \n236064   255245   8/31/2016 23:49     9/1/2016 0:20  SEA00442      1896.031   \n\n                             from_station_name  \\\n0                          2nd Ave & Spring St   \n1                          2nd Ave & Spring St   \n2                          2nd Ave & Spring St   \n3                          2nd Ave & Spring St   \n4                          2nd Ave & Spring St   \n...                                        ...   \n236060                 Harvard Ave & E Pine St   \n236061  Cal Anderson Park / 11th Ave & Pine St   \n236062  Cal Anderson Park / 11th Ave & Pine St   \n236063  Cal Anderson Park / 11th Ave & Pine St   \n236064  Cal Anderson Park / 11th Ave & Pine St   \n\n                                          to_station_name from_station_id  \\\n0       Occidental Park / Occidental Ave S & S Washing...          CBD-06   \n1       Occidental Park / Occidental Ave S & S Washing...          CBD-06   \n2       Occidental Park / Occidental Ave S & S Washing...          CBD-06   \n3       Occidental Park / Occidental Ave S & S Washing...          CBD-06   \n4       Occidental Park / Occidental Ave S & S Washing...          CBD-06   \n...                                                   ...             ...   \n236060                                2nd Ave & Spring St           CH-09   \n236061                              6th Ave S & S King St           CH-08   \n236062                              6th Ave S & S King St           CH-08   \n236063                              6th Ave S & S King St           CH-08   \n236064                              6th Ave S & S King St           CH-08   \n\n       to_station_id                usertype  gender  birthyear  \n0              PS-04                  Member    Male     1960.0  \n1              PS-04                  Member    Male     1970.0  \n2              PS-04                  Member  Female     1988.0  \n3              PS-04                  Member  Female     1977.0  \n4              PS-04                  Member    Male     1971.0  \n...              ...                     ...     ...        ...  \n236060        CBD-06  Short-Term Pass Holder     NaN        NaN  \n236061         ID-04  Short-Term Pass Holder     NaN        NaN  \n236062         ID-04  Short-Term Pass Holder     NaN        NaN  \n236063         ID-04  Short-Term Pass Holder     NaN        NaN  \n236064         ID-04  Short-Term Pass Holder     NaN        NaN  \n\n[236065 rows x 12 columns]",
      "text/html": "<div>\n<style scoped>\n    .dataframe tbody tr th:only-of-type {\n        vertical-align: middle;\n    }\n\n    .dataframe tbody tr th {\n        vertical-align: top;\n    }\n\n    .dataframe thead th {\n        text-align: right;\n    }\n</style>\n<table border=\"1\" class=\"dataframe\">\n  <thead>\n    <tr style=\"text-align: right;\">\n      <th></th>\n      <th>trip_id</th>\n      <th>starttime</th>\n      <th>stoptime</th>\n      <th>bikeid</th>\n      <th>tripduration</th>\n      <th>from_station_name</th>\n      <th>to_station_name</th>\n      <th>from_station_id</th>\n      <th>to_station_id</th>\n      <th>usertype</th>\n      <th>gender</th>\n      <th>birthyear</th>\n    </tr>\n  </thead>\n  <tbody>\n    <tr>\n      <th>0</th>\n      <td>431</td>\n      <td>10/13/2014 10:31</td>\n      <td>10/13/2014 10:48</td>\n      <td>SEA00298</td>\n      <td>985.935</td>\n      <td>2nd Ave &amp; Spring St</td>\n      <td>Occidental Park / Occidental Ave S &amp; S Washing...</td>\n      <td>CBD-06</td>\n      <td>PS-04</td>\n      <td>Member</td>\n      <td>Male</td>\n      <td>1960.0</td>\n    </tr>\n    <tr>\n      <th>1</th>\n      <td>432</td>\n      <td>10/13/2014 10:32</td>\n      <td>10/13/2014 10:48</td>\n      <td>SEA00195</td>\n      <td>926.375</td>\n      <td>2nd Ave &amp; Spring St</td>\n      <td>Occidental Park / Occidental Ave S &amp; S Washing...</td>\n      <td>CBD-06</td>\n      <td>PS-04</td>\n      <td>Member</td>\n      <td>Male</td>\n      <td>1970.0</td>\n    </tr>\n    <tr>\n      <th>2</th>\n      <td>433</td>\n      <td>10/13/2014 10:33</td>\n      <td>10/13/2014 10:48</td>\n      <td>SEA00486</td>\n      <td>883.831</td>\n      <td>2nd Ave &amp; Spring St</td>\n      <td>Occidental Park / Occidental Ave S &amp; S Washing...</td>\n      <td>CBD-06</td>\n      <td>PS-04</td>\n      <td>Member</td>\n      <td>Female</td>\n      <td>1988.0</td>\n    </tr>\n    <tr>\n      <th>3</th>\n      <td>434</td>\n      <td>10/13/2014 10:34</td>\n      <td>10/13/2014 10:48</td>\n      <td>SEA00333</td>\n      <td>865.937</td>\n      <td>2nd Ave &amp; Spring St</td>\n      <td>Occidental Park / Occidental Ave S &amp; S Washing...</td>\n      <td>CBD-06</td>\n      <td>PS-04</td>\n      <td>Member</td>\n      <td>Female</td>\n      <td>1977.0</td>\n    </tr>\n    <tr>\n      <th>4</th>\n      <td>435</td>\n      <td>10/13/2014 10:34</td>\n      <td>10/13/2014 10:49</td>\n      <td>SEA00202</td>\n      <td>923.923</td>\n      <td>2nd Ave &amp; Spring St</td>\n      <td>Occidental Park / Occidental Ave S &amp; S Washing...</td>\n      <td>CBD-06</td>\n      <td>PS-04</td>\n      <td>Member</td>\n      <td>Male</td>\n      <td>1971.0</td>\n    </tr>\n    <tr>\n      <th>...</th>\n      <td>...</td>\n      <td>...</td>\n      <td>...</td>\n      <td>...</td>\n      <td>...</td>\n      <td>...</td>\n      <td>...</td>\n      <td>...</td>\n      <td>...</td>\n      <td>...</td>\n      <td>...</td>\n      <td>...</td>\n    </tr>\n    <tr>\n      <th>236060</th>\n      <td>255241</td>\n      <td>8/31/2016 23:34</td>\n      <td>8/31/2016 23:45</td>\n      <td>SEA00201</td>\n      <td>679.532</td>\n      <td>Harvard Ave &amp; E Pine St</td>\n      <td>2nd Ave &amp; Spring St</td>\n      <td>CH-09</td>\n      <td>CBD-06</td>\n      <td>Short-Term Pass Holder</td>\n      <td>NaN</td>\n      <td>NaN</td>\n    </tr>\n    <tr>\n      <th>236061</th>\n      <td>255242</td>\n      <td>8/31/2016 23:48</td>\n      <td>9/1/2016 0:20</td>\n      <td>SEA00247</td>\n      <td>1965.418</td>\n      <td>Cal Anderson Park / 11th Ave &amp; Pine St</td>\n      <td>6th Ave S &amp; S King St</td>\n      <td>CH-08</td>\n      <td>ID-04</td>\n      <td>Short-Term Pass Holder</td>\n      <td>NaN</td>\n      <td>NaN</td>\n    </tr>\n    <tr>\n      <th>236062</th>\n      <td>255243</td>\n      <td>8/31/2016 23:47</td>\n      <td>9/1/2016 0:20</td>\n      <td>SEA00300</td>\n      <td>1951.173</td>\n      <td>Cal Anderson Park / 11th Ave &amp; Pine St</td>\n      <td>6th Ave S &amp; S King St</td>\n      <td>CH-08</td>\n      <td>ID-04</td>\n      <td>Short-Term Pass Holder</td>\n      <td>NaN</td>\n      <td>NaN</td>\n    </tr>\n    <tr>\n      <th>236063</th>\n      <td>255244</td>\n      <td>8/31/2016 23:49</td>\n      <td>9/1/2016 0:20</td>\n      <td>SEA00047</td>\n      <td>1883.299</td>\n      <td>Cal Anderson Park / 11th Ave &amp; Pine St</td>\n      <td>6th Ave S &amp; S King St</td>\n      <td>CH-08</td>\n      <td>ID-04</td>\n      <td>Short-Term Pass Holder</td>\n      <td>NaN</td>\n      <td>NaN</td>\n    </tr>\n    <tr>\n      <th>236064</th>\n      <td>255245</td>\n      <td>8/31/2016 23:49</td>\n      <td>9/1/2016 0:20</td>\n      <td>SEA00442</td>\n      <td>1896.031</td>\n      <td>Cal Anderson Park / 11th Ave &amp; Pine St</td>\n      <td>6th Ave S &amp; S King St</td>\n      <td>CH-08</td>\n      <td>ID-04</td>\n      <td>Short-Term Pass Holder</td>\n      <td>NaN</td>\n      <td>NaN</td>\n    </tr>\n  </tbody>\n</table>\n<p>236065 rows × 12 columns</p>\n</div>"
     },
     "execution_count": 10,
     "metadata": {},
     "output_type": "execute_result"
    }
   ],
   "source": [
    "selector.dfs[\"2016_trip_data\"]"
   ],
   "metadata": {
    "collapsed": false,
    "pycharm": {
     "name": "#%%\n"
    }
   }
  },
  {
   "cell_type": "code",
   "execution_count": 11,
   "outputs": [
    {
     "data": {
      "text/plain": "        trip_id         starttime          stoptime    bikeid  tripduration  \\\n0           431  10/13/2014 10:31  10/13/2014 10:48  SEA00298       985.935   \n1           432  10/13/2014 10:32  10/13/2014 10:48  SEA00195       926.375   \n2           433  10/13/2014 10:33  10/13/2014 10:48  SEA00486       883.831   \n3           434  10/13/2014 10:34  10/13/2014 10:48  SEA00333       865.937   \n4           435  10/13/2014 10:34  10/13/2014 10:49  SEA00202       923.923   \n...         ...               ...               ...       ...           ...   \n263131   283148  12/31/2016 23:01  12/31/2016 23:37  SEA00220      2139.413   \n263132   283149  12/31/2016 23:41     1/1/2017 0:18  SEA00339      2185.038   \n263133   283150  12/31/2016 23:42     1/1/2017 0:18  SEA00126      2173.435   \n263134   283151  12/31/2016 23:47     1/1/2017 0:18  SEA00014      1850.632   \n263135   283152  12/31/2016 23:47     1/1/2017 0:18  SEA00343      1857.877   \n\n                                        from_station_name  \\\n0                                     2nd Ave & Spring St   \n1                                     2nd Ave & Spring St   \n2                                     2nd Ave & Spring St   \n3                                     2nd Ave & Spring St   \n4                                     2nd Ave & Spring St   \n...                                                   ...   \n263131  Burke-Gilman Trail / NE Blakeley St & 24th Ave NE   \n263132  Seattle Aquarium / Alaskan Way S & Elliott Bay...   \n263133  Seattle Aquarium / Alaskan Way S & Elliott Bay...   \n263134  Seattle Aquarium / Alaskan Way S & Elliott Bay...   \n263135  Seattle Aquarium / Alaskan Way S & Elliott Bay...   \n\n                                          to_station_name from_station_id  \\\n0       Occidental Park / Occidental Ave S & S Washing...          CBD-06   \n1       Occidental Park / Occidental Ave S & S Washing...          CBD-06   \n2       Occidental Park / Occidental Ave S & S Washing...          CBD-06   \n3       Occidental Park / Occidental Ave S & S Washing...          CBD-06   \n4       Occidental Park / Occidental Ave S & S Washing...          CBD-06   \n...                                                   ...             ...   \n263131  Burke-Gilman Trail / NE Blakeley St & 24th Ave NE           UD-01   \n263132  Seattle Aquarium / Alaskan Way S & Elliott Bay...           WF-04   \n263133  Seattle Aquarium / Alaskan Way S & Elliott Bay...           WF-04   \n263134  Seattle Aquarium / Alaskan Way S & Elliott Bay...           WF-04   \n263135  Seattle Aquarium / Alaskan Way S & Elliott Bay...           WF-04   \n\n       to_station_id                usertype  gender  birthyear  \n0              PS-04                  Member    Male     1960.0  \n1              PS-04                  Member    Male     1970.0  \n2              PS-04                  Member  Female     1988.0  \n3              PS-04                  Member  Female     1977.0  \n4              PS-04                  Member    Male     1971.0  \n...              ...                     ...     ...        ...  \n263131         UD-01                  Member    Male     1994.0  \n263132         WF-04  Short-Term Pass Holder     NaN        NaN  \n263133         WF-04  Short-Term Pass Holder     NaN        NaN  \n263134         WF-04  Short-Term Pass Holder     NaN        NaN  \n263135         WF-04  Short-Term Pass Holder     NaN        NaN  \n\n[263136 rows x 12 columns]",
      "text/html": "<div>\n<style scoped>\n    .dataframe tbody tr th:only-of-type {\n        vertical-align: middle;\n    }\n\n    .dataframe tbody tr th {\n        vertical-align: top;\n    }\n\n    .dataframe thead th {\n        text-align: right;\n    }\n</style>\n<table border=\"1\" class=\"dataframe\">\n  <thead>\n    <tr style=\"text-align: right;\">\n      <th></th>\n      <th>trip_id</th>\n      <th>starttime</th>\n      <th>stoptime</th>\n      <th>bikeid</th>\n      <th>tripduration</th>\n      <th>from_station_name</th>\n      <th>to_station_name</th>\n      <th>from_station_id</th>\n      <th>to_station_id</th>\n      <th>usertype</th>\n      <th>gender</th>\n      <th>birthyear</th>\n    </tr>\n  </thead>\n  <tbody>\n    <tr>\n      <th>0</th>\n      <td>431</td>\n      <td>10/13/2014 10:31</td>\n      <td>10/13/2014 10:48</td>\n      <td>SEA00298</td>\n      <td>985.935</td>\n      <td>2nd Ave &amp; Spring St</td>\n      <td>Occidental Park / Occidental Ave S &amp; S Washing...</td>\n      <td>CBD-06</td>\n      <td>PS-04</td>\n      <td>Member</td>\n      <td>Male</td>\n      <td>1960.0</td>\n    </tr>\n    <tr>\n      <th>1</th>\n      <td>432</td>\n      <td>10/13/2014 10:32</td>\n      <td>10/13/2014 10:48</td>\n      <td>SEA00195</td>\n      <td>926.375</td>\n      <td>2nd Ave &amp; Spring St</td>\n      <td>Occidental Park / Occidental Ave S &amp; S Washing...</td>\n      <td>CBD-06</td>\n      <td>PS-04</td>\n      <td>Member</td>\n      <td>Male</td>\n      <td>1970.0</td>\n    </tr>\n    <tr>\n      <th>2</th>\n      <td>433</td>\n      <td>10/13/2014 10:33</td>\n      <td>10/13/2014 10:48</td>\n      <td>SEA00486</td>\n      <td>883.831</td>\n      <td>2nd Ave &amp; Spring St</td>\n      <td>Occidental Park / Occidental Ave S &amp; S Washing...</td>\n      <td>CBD-06</td>\n      <td>PS-04</td>\n      <td>Member</td>\n      <td>Female</td>\n      <td>1988.0</td>\n    </tr>\n    <tr>\n      <th>3</th>\n      <td>434</td>\n      <td>10/13/2014 10:34</td>\n      <td>10/13/2014 10:48</td>\n      <td>SEA00333</td>\n      <td>865.937</td>\n      <td>2nd Ave &amp; Spring St</td>\n      <td>Occidental Park / Occidental Ave S &amp; S Washing...</td>\n      <td>CBD-06</td>\n      <td>PS-04</td>\n      <td>Member</td>\n      <td>Female</td>\n      <td>1977.0</td>\n    </tr>\n    <tr>\n      <th>4</th>\n      <td>435</td>\n      <td>10/13/2014 10:34</td>\n      <td>10/13/2014 10:49</td>\n      <td>SEA00202</td>\n      <td>923.923</td>\n      <td>2nd Ave &amp; Spring St</td>\n      <td>Occidental Park / Occidental Ave S &amp; S Washing...</td>\n      <td>CBD-06</td>\n      <td>PS-04</td>\n      <td>Member</td>\n      <td>Male</td>\n      <td>1971.0</td>\n    </tr>\n    <tr>\n      <th>...</th>\n      <td>...</td>\n      <td>...</td>\n      <td>...</td>\n      <td>...</td>\n      <td>...</td>\n      <td>...</td>\n      <td>...</td>\n      <td>...</td>\n      <td>...</td>\n      <td>...</td>\n      <td>...</td>\n      <td>...</td>\n    </tr>\n    <tr>\n      <th>263131</th>\n      <td>283148</td>\n      <td>12/31/2016 23:01</td>\n      <td>12/31/2016 23:37</td>\n      <td>SEA00220</td>\n      <td>2139.413</td>\n      <td>Burke-Gilman Trail / NE Blakeley St &amp; 24th Ave NE</td>\n      <td>Burke-Gilman Trail / NE Blakeley St &amp; 24th Ave NE</td>\n      <td>UD-01</td>\n      <td>UD-01</td>\n      <td>Member</td>\n      <td>Male</td>\n      <td>1994.0</td>\n    </tr>\n    <tr>\n      <th>263132</th>\n      <td>283149</td>\n      <td>12/31/2016 23:41</td>\n      <td>1/1/2017 0:18</td>\n      <td>SEA00339</td>\n      <td>2185.038</td>\n      <td>Seattle Aquarium / Alaskan Way S &amp; Elliott Bay...</td>\n      <td>Seattle Aquarium / Alaskan Way S &amp; Elliott Bay...</td>\n      <td>WF-04</td>\n      <td>WF-04</td>\n      <td>Short-Term Pass Holder</td>\n      <td>NaN</td>\n      <td>NaN</td>\n    </tr>\n    <tr>\n      <th>263133</th>\n      <td>283150</td>\n      <td>12/31/2016 23:42</td>\n      <td>1/1/2017 0:18</td>\n      <td>SEA00126</td>\n      <td>2173.435</td>\n      <td>Seattle Aquarium / Alaskan Way S &amp; Elliott Bay...</td>\n      <td>Seattle Aquarium / Alaskan Way S &amp; Elliott Bay...</td>\n      <td>WF-04</td>\n      <td>WF-04</td>\n      <td>Short-Term Pass Holder</td>\n      <td>NaN</td>\n      <td>NaN</td>\n    </tr>\n    <tr>\n      <th>263134</th>\n      <td>283151</td>\n      <td>12/31/2016 23:47</td>\n      <td>1/1/2017 0:18</td>\n      <td>SEA00014</td>\n      <td>1850.632</td>\n      <td>Seattle Aquarium / Alaskan Way S &amp; Elliott Bay...</td>\n      <td>Seattle Aquarium / Alaskan Way S &amp; Elliott Bay...</td>\n      <td>WF-04</td>\n      <td>WF-04</td>\n      <td>Short-Term Pass Holder</td>\n      <td>NaN</td>\n      <td>NaN</td>\n    </tr>\n    <tr>\n      <th>263135</th>\n      <td>283152</td>\n      <td>12/31/2016 23:47</td>\n      <td>1/1/2017 0:18</td>\n      <td>SEA00343</td>\n      <td>1857.877</td>\n      <td>Seattle Aquarium / Alaskan Way S &amp; Elliott Bay...</td>\n      <td>Seattle Aquarium / Alaskan Way S &amp; Elliott Bay...</td>\n      <td>WF-04</td>\n      <td>WF-04</td>\n      <td>Short-Term Pass Holder</td>\n      <td>NaN</td>\n      <td>NaN</td>\n    </tr>\n  </tbody>\n</table>\n<p>263136 rows × 12 columns</p>\n</div>"
     },
     "execution_count": 11,
     "metadata": {},
     "output_type": "execute_result"
    }
   ],
   "source": [
    "selector.dfs[\"2016-12_trip_data\"]"
   ],
   "metadata": {
    "collapsed": false,
    "pycharm": {
     "name": "#%%\n"
    }
   }
  }
 ],
 "metadata": {
  "kernelspec": {
   "display_name": "Python 3",
   "language": "python",
   "name": "python3"
  },
  "language_info": {
   "codemirror_mode": {
    "name": "ipython",
    "version": 2
   },
   "file_extension": ".py",
   "mimetype": "text/x-python",
   "name": "python",
   "nbconvert_exporter": "python",
   "pygments_lexer": "ipython2",
   "version": "2.7.6"
  }
 },
 "nbformat": 4,
 "nbformat_minor": 0
}