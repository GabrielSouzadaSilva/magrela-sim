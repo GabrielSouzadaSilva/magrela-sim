{
 "cells": [
  {
   "cell_type": "markdown",
   "id": "6d0e5d1c-a51a-4382-80cd-16a8b6842523",
   "metadata": {
    "pycharm": {
     "name": "#%% md\n"
    }
   },
   "source": [
    "# Exploratory Data Analysis"
   ]
  },
  {
   "cell_type": "code",
   "execution_count": 1,
   "id": "ceeba6b8-3d61-4cb5-8a88-8ea4e8c1fd1d",
   "metadata": {
    "collapsed": false,
    "jupyter": {
     "outputs_hidden": false
    },
    "pycharm": {
     "name": "#%%\n"
    }
   },
   "outputs": [
    {
     "data": {
      "text/plain": "'/home/hellsdeur/Documents/ufpa/cbcc/2022.2/simulation/magrela-sim'"
     },
     "execution_count": 1,
     "metadata": {},
     "output_type": "execute_result"
    }
   ],
   "source": [
    "import os\n",
    "\n",
    "os.chdir(\"../\")\n",
    "os.getcwd()"
   ]
  },
  {
   "cell_type": "code",
   "execution_count": 2,
   "id": "63f07c96-5828-4297-ba3b-44c4de432f2d",
   "metadata": {
    "collapsed": false,
    "jupyter": {
     "outputs_hidden": false
    },
    "pycharm": {
     "name": "#%%\n"
    }
   },
   "outputs": [],
   "source": [
    "from src.eda import Cleaner"
   ]
  },
  {
   "cell_type": "markdown",
   "id": "622de4a3-e58f-4ecc-a5d9-e2e4a08044a0",
   "metadata": {
    "pycharm": {
     "name": "#%% md\n"
    },
    "tags": []
   },
   "source": [
    "## 3. Data Cleaning"
   ]
  },
  {
   "cell_type": "code",
   "execution_count": 3,
   "id": "21082764-7d5e-4aaa-8d51-f9efd7819205",
   "metadata": {
    "collapsed": false,
    "jupyter": {
     "outputs_hidden": false
    },
    "pycharm": {
     "name": "#%%\n"
    }
   },
   "outputs": [],
   "source": [
    "cleaner = Cleaner(serial_path=\"data/selected.pickle\")"
   ]
  },
  {
   "cell_type": "markdown",
   "source": [
    "### Trip"
   ],
   "metadata": {
    "collapsed": false,
    "pycharm": {
     "name": "#%% md\n"
    }
   }
  },
  {
   "cell_type": "code",
   "execution_count": 4,
   "outputs": [],
   "source": [
    "key = \"trip\""
   ],
   "metadata": {
    "collapsed": false,
    "pycharm": {
     "name": "#%%\n"
    }
   }
  },
  {
   "cell_type": "code",
   "execution_count": 5,
   "outputs": [
    {
     "data": {
      "text/plain": "        trip_id         starttime          stoptime    bikeid  tripduration  \\\n0           431  10/13/2014 10:31  10/13/2014 10:48  SEA00298       985.935   \n1           432  10/13/2014 10:32  10/13/2014 10:48  SEA00195       926.375   \n2           433  10/13/2014 10:33  10/13/2014 10:48  SEA00486       883.831   \n3           434  10/13/2014 10:34  10/13/2014 10:48  SEA00333       865.937   \n4           435  10/13/2014 10:34  10/13/2014 10:49  SEA00202       923.923   \n...         ...               ...               ...       ...           ...   \n142841   156796  10/12/2015 20:41  10/12/2015 20:47  SEA00358       377.183   \n142842   156797  10/12/2015 20:43  10/12/2015 20:48  SEA00399       303.330   \n142843   156798  10/12/2015 21:03  10/12/2015 21:06  SEA00204       165.597   \n142844   156799  10/12/2015 21:35  10/12/2015 21:41  SEA00073       388.576   \n142845   156800  10/12/2015 22:45  10/12/2015 22:51  SEA00033       391.885   \n\n                     from_station_name  \\\n0                  2nd Ave & Spring St   \n1                  2nd Ave & Spring St   \n2                  2nd Ave & Spring St   \n3                  2nd Ave & Spring St   \n4                  2nd Ave & Spring St   \n...                                ...   \n142841            E Pine St & 16th Ave   \n142842        Bellevue Ave & E Pine St   \n142843         Harvard Ave & E Pine St   \n142844               Pine St & 9th Ave   \n142845  NE 42nd St & University Way NE   \n\n                                          to_station_name from_station_id  \\\n0       Occidental Park / Occidental Ave S & S Washing...          CBD-06   \n1       Occidental Park / Occidental Ave S & S Washing...          CBD-06   \n2       Occidental Park / Occidental Ave S & S Washing...          CBD-06   \n3       Occidental Park / Occidental Ave S & S Washing...          CBD-06   \n4       Occidental Park / Occidental Ave S & S Washing...          CBD-06   \n...                                                   ...             ...   \n142841                           Summit Ave & E Denny Way           CH-07   \n142842                     Summit Ave E & E Republican St           CH-12   \n142843                     E Harrison St & Broadway Ave E           CH-09   \n142844                                 3rd Ave & Broad St          SLU-16   \n142845                      Eastlake Ave E & E Allison St           UD-02   \n\n       to_station_id                usertype  gender  birthyear  \n0              PS-04           Annual Member    Male     1960.0  \n1              PS-04           Annual Member    Male     1970.0  \n2              PS-04           Annual Member  Female     1988.0  \n3              PS-04           Annual Member  Female     1977.0  \n4              PS-04           Annual Member    Male     1971.0  \n...              ...                     ...     ...        ...  \n142841         CH-01           Annual Member    Male     1990.0  \n142842         CH-03           Annual Member    Male     1978.0  \n142843         CH-02           Annual Member    Male     1989.0  \n142844         BT-01  Short-Term Pass Holder     NaN        NaN  \n142845         EL-05           Annual Member    Male     1985.0  \n\n[142846 rows x 12 columns]",
      "text/html": "<div>\n<style scoped>\n    .dataframe tbody tr th:only-of-type {\n        vertical-align: middle;\n    }\n\n    .dataframe tbody tr th {\n        vertical-align: top;\n    }\n\n    .dataframe thead th {\n        text-align: right;\n    }\n</style>\n<table border=\"1\" class=\"dataframe\">\n  <thead>\n    <tr style=\"text-align: right;\">\n      <th></th>\n      <th>trip_id</th>\n      <th>starttime</th>\n      <th>stoptime</th>\n      <th>bikeid</th>\n      <th>tripduration</th>\n      <th>from_station_name</th>\n      <th>to_station_name</th>\n      <th>from_station_id</th>\n      <th>to_station_id</th>\n      <th>usertype</th>\n      <th>gender</th>\n      <th>birthyear</th>\n    </tr>\n  </thead>\n  <tbody>\n    <tr>\n      <th>0</th>\n      <td>431</td>\n      <td>10/13/2014 10:31</td>\n      <td>10/13/2014 10:48</td>\n      <td>SEA00298</td>\n      <td>985.935</td>\n      <td>2nd Ave &amp; Spring St</td>\n      <td>Occidental Park / Occidental Ave S &amp; S Washing...</td>\n      <td>CBD-06</td>\n      <td>PS-04</td>\n      <td>Annual Member</td>\n      <td>Male</td>\n      <td>1960.0</td>\n    </tr>\n    <tr>\n      <th>1</th>\n      <td>432</td>\n      <td>10/13/2014 10:32</td>\n      <td>10/13/2014 10:48</td>\n      <td>SEA00195</td>\n      <td>926.375</td>\n      <td>2nd Ave &amp; Spring St</td>\n      <td>Occidental Park / Occidental Ave S &amp; S Washing...</td>\n      <td>CBD-06</td>\n      <td>PS-04</td>\n      <td>Annual Member</td>\n      <td>Male</td>\n      <td>1970.0</td>\n    </tr>\n    <tr>\n      <th>2</th>\n      <td>433</td>\n      <td>10/13/2014 10:33</td>\n      <td>10/13/2014 10:48</td>\n      <td>SEA00486</td>\n      <td>883.831</td>\n      <td>2nd Ave &amp; Spring St</td>\n      <td>Occidental Park / Occidental Ave S &amp; S Washing...</td>\n      <td>CBD-06</td>\n      <td>PS-04</td>\n      <td>Annual Member</td>\n      <td>Female</td>\n      <td>1988.0</td>\n    </tr>\n    <tr>\n      <th>3</th>\n      <td>434</td>\n      <td>10/13/2014 10:34</td>\n      <td>10/13/2014 10:48</td>\n      <td>SEA00333</td>\n      <td>865.937</td>\n      <td>2nd Ave &amp; Spring St</td>\n      <td>Occidental Park / Occidental Ave S &amp; S Washing...</td>\n      <td>CBD-06</td>\n      <td>PS-04</td>\n      <td>Annual Member</td>\n      <td>Female</td>\n      <td>1977.0</td>\n    </tr>\n    <tr>\n      <th>4</th>\n      <td>435</td>\n      <td>10/13/2014 10:34</td>\n      <td>10/13/2014 10:49</td>\n      <td>SEA00202</td>\n      <td>923.923</td>\n      <td>2nd Ave &amp; Spring St</td>\n      <td>Occidental Park / Occidental Ave S &amp; S Washing...</td>\n      <td>CBD-06</td>\n      <td>PS-04</td>\n      <td>Annual Member</td>\n      <td>Male</td>\n      <td>1971.0</td>\n    </tr>\n    <tr>\n      <th>...</th>\n      <td>...</td>\n      <td>...</td>\n      <td>...</td>\n      <td>...</td>\n      <td>...</td>\n      <td>...</td>\n      <td>...</td>\n      <td>...</td>\n      <td>...</td>\n      <td>...</td>\n      <td>...</td>\n      <td>...</td>\n    </tr>\n    <tr>\n      <th>142841</th>\n      <td>156796</td>\n      <td>10/12/2015 20:41</td>\n      <td>10/12/2015 20:47</td>\n      <td>SEA00358</td>\n      <td>377.183</td>\n      <td>E Pine St &amp; 16th Ave</td>\n      <td>Summit Ave &amp; E Denny Way</td>\n      <td>CH-07</td>\n      <td>CH-01</td>\n      <td>Annual Member</td>\n      <td>Male</td>\n      <td>1990.0</td>\n    </tr>\n    <tr>\n      <th>142842</th>\n      <td>156797</td>\n      <td>10/12/2015 20:43</td>\n      <td>10/12/2015 20:48</td>\n      <td>SEA00399</td>\n      <td>303.330</td>\n      <td>Bellevue Ave &amp; E Pine St</td>\n      <td>Summit Ave E &amp; E Republican St</td>\n      <td>CH-12</td>\n      <td>CH-03</td>\n      <td>Annual Member</td>\n      <td>Male</td>\n      <td>1978.0</td>\n    </tr>\n    <tr>\n      <th>142843</th>\n      <td>156798</td>\n      <td>10/12/2015 21:03</td>\n      <td>10/12/2015 21:06</td>\n      <td>SEA00204</td>\n      <td>165.597</td>\n      <td>Harvard Ave &amp; E Pine St</td>\n      <td>E Harrison St &amp; Broadway Ave E</td>\n      <td>CH-09</td>\n      <td>CH-02</td>\n      <td>Annual Member</td>\n      <td>Male</td>\n      <td>1989.0</td>\n    </tr>\n    <tr>\n      <th>142844</th>\n      <td>156799</td>\n      <td>10/12/2015 21:35</td>\n      <td>10/12/2015 21:41</td>\n      <td>SEA00073</td>\n      <td>388.576</td>\n      <td>Pine St &amp; 9th Ave</td>\n      <td>3rd Ave &amp; Broad St</td>\n      <td>SLU-16</td>\n      <td>BT-01</td>\n      <td>Short-Term Pass Holder</td>\n      <td>NaN</td>\n      <td>NaN</td>\n    </tr>\n    <tr>\n      <th>142845</th>\n      <td>156800</td>\n      <td>10/12/2015 22:45</td>\n      <td>10/12/2015 22:51</td>\n      <td>SEA00033</td>\n      <td>391.885</td>\n      <td>NE 42nd St &amp; University Way NE</td>\n      <td>Eastlake Ave E &amp; E Allison St</td>\n      <td>UD-02</td>\n      <td>EL-05</td>\n      <td>Annual Member</td>\n      <td>Male</td>\n      <td>1985.0</td>\n    </tr>\n  </tbody>\n</table>\n<p>142846 rows × 12 columns</p>\n</div>"
     },
     "execution_count": 5,
     "metadata": {},
     "output_type": "execute_result"
    }
   ],
   "source": [
    "cleaner.data[key]"
   ],
   "metadata": {
    "collapsed": false,
    "pycharm": {
     "name": "#%%\n"
    }
   }
  },
  {
   "cell_type": "code",
   "execution_count": 6,
   "id": "df37df5b-8420-429f-9d58-9c645a0d3f8c",
   "metadata": {
    "pycharm": {
     "name": "#%%\n"
    }
   },
   "outputs": [
    {
     "data": {
      "text/plain": "Empty DataFrame\nColumns: [trip_id, starttime, stoptime, bikeid, tripduration, from_station_name, to_station_name, from_station_id, to_station_id, usertype, gender, birthyear]\nIndex: []",
      "text/html": "<div>\n<style scoped>\n    .dataframe tbody tr th:only-of-type {\n        vertical-align: middle;\n    }\n\n    .dataframe tbody tr th {\n        vertical-align: top;\n    }\n\n    .dataframe thead th {\n        text-align: right;\n    }\n</style>\n<table border=\"1\" class=\"dataframe\">\n  <thead>\n    <tr style=\"text-align: right;\">\n      <th></th>\n      <th>trip_id</th>\n      <th>starttime</th>\n      <th>stoptime</th>\n      <th>bikeid</th>\n      <th>tripduration</th>\n      <th>from_station_name</th>\n      <th>to_station_name</th>\n      <th>from_station_id</th>\n      <th>to_station_id</th>\n      <th>usertype</th>\n      <th>gender</th>\n      <th>birthyear</th>\n    </tr>\n  </thead>\n  <tbody>\n  </tbody>\n</table>\n</div>"
     },
     "execution_count": 6,
     "metadata": {},
     "output_type": "execute_result"
    }
   ],
   "source": [
    "cleaner.duplicated(key=key, subset=[\"trip_id\"])"
   ]
  },
  {
   "cell_type": "markdown",
   "source": [
    "Both timestamps columns are expressed as strings, thus a conversion to datetime is required."
   ],
   "metadata": {
    "collapsed": false,
    "pycharm": {
     "name": "#%% md\n"
    }
   }
  },
  {
   "cell_type": "code",
   "execution_count": 7,
   "outputs": [],
   "source": [
    "cleaner.to_datetime(key=key, column=\"starttime\")\n",
    "cleaner.to_datetime(key=key, column=\"stoptime\")"
   ],
   "metadata": {
    "collapsed": false,
    "pycharm": {
     "name": "#%%\n"
    }
   }
  },
  {
   "cell_type": "code",
   "execution_count": 8,
   "id": "f542a6d2-98db-4fd3-9258-9560a6afe636",
   "metadata": {
    "pycharm": {
     "name": "#%%\n"
    }
   },
   "outputs": [
    {
     "name": "stdout",
     "output_type": "stream",
     "text": [
      "<class 'pandas.core.frame.DataFrame'>\n",
      "RangeIndex: 142846 entries, 0 to 142845\n",
      "Data columns (total 12 columns):\n",
      " #   Column             Non-Null Count   Dtype         \n",
      "---  ------             --------------   -----         \n",
      " 0   trip_id            142846 non-null  int64         \n",
      " 1   starttime          142846 non-null  datetime64[ns]\n",
      " 2   stoptime           142846 non-null  datetime64[ns]\n",
      " 3   bikeid             142846 non-null  object        \n",
      " 4   tripduration       142846 non-null  float64       \n",
      " 5   from_station_name  142846 non-null  object        \n",
      " 6   to_station_name    142846 non-null  object        \n",
      " 7   from_station_id    142846 non-null  object        \n",
      " 8   to_station_id      142846 non-null  object        \n",
      " 9   usertype           142846 non-null  object        \n",
      " 10  gender             87360 non-null   object        \n",
      " 11  birthyear          87360 non-null   float64       \n",
      "dtypes: datetime64[ns](2), float64(2), int64(1), object(7)\n",
      "memory usage: 13.1+ MB\n"
     ]
    }
   ],
   "source": [
    "cleaner.data[key].info()"
   ]
  },
  {
   "cell_type": "markdown",
   "source": [
    "### Station"
   ],
   "metadata": {
    "collapsed": false,
    "pycharm": {
     "name": "#%% md\n"
    }
   }
  },
  {
   "cell_type": "code",
   "execution_count": 9,
   "outputs": [],
   "source": [
    "key = \"station\""
   ],
   "metadata": {
    "collapsed": false,
    "pycharm": {
     "name": "#%%\n"
    }
   }
  },
  {
   "cell_type": "code",
   "execution_count": 10,
   "outputs": [
    {
     "data": {
      "text/plain": "    id                                               name terminal        lat  \\\n0    1                                 3rd Ave & Broad St    BT-01  47.618418   \n1    2                                  2nd Ave & Vine St    BT-03  47.615829   \n2    3                             6th Ave & Blanchard St    BT-04  47.616094   \n3    4                             2nd Ave & Blanchard St    BT-05  47.613110   \n4    5                                  2nd Ave & Pine St   CBD-13  47.610185   \n5    6                                 7th Ave & Union St   CBD-03  47.610731   \n6    7                     City Hall / 4th Ave & James St   CBD-07  47.603509   \n7    8                                  Pine St & 9th Ave   SLU-16  47.613715   \n8    9                                2nd Ave & Spring St   CBD-06  47.605950   \n9   10                           Summit Ave & E Denny Way    CH-01  47.618633   \n10  11                     E Harrison St & Broadway Ave E    CH-02  47.622063   \n11  12                     Summit Ave E & E Republican St    CH-03  47.623367   \n12  13                           15th Ave E & E Thomas St    CH-05  47.620712   \n13  14                             12th Ave & E Denny Way    CH-06  47.618549   \n14  15                               E Pine St & 16th Ave    CH-07  47.615330   \n15  16             Cal Anderson Park / 11th Ave & Pine St    CH-08  47.615486   \n16  17                            Harvard Ave & E Pine St    CH-09  47.615517   \n17  18                           Bellevue Ave & E Pine St    CH-12  47.615456   \n18  19                             12th Ave & E Mercer St    CH-15  47.624142   \n19  20                              9th Ave N & Mercer St   DPD-01  47.624298   \n20  21  Children's Hospital / Sandpoint Way NE & 40th ...   DPD-03  47.663509   \n21  22  Fred Hutchinson Cancer Research Center / Fairv...    EL-01  47.627643   \n22  23                       E Blaine St & Fairview Ave E    EL-03  47.634831   \n23  24                      Eastlake Ave E & E Allison St    EL-05  47.649090   \n24  25          Frye Art Museum / Terry Ave & Columbia St    FH-01  47.607281   \n25  26      Seattle University / E Columbia St & 12th Ave    FH-04  47.609239   \n26  27                              6th Ave S & S King St    ID-04  47.598488   \n27  28  King Street Station Plaza / 2nd Ave Extension ...    PS-05  47.598994   \n28  29  Occidental Park / Occidental Ave S & S Washing...    PS-04  47.600757   \n29  30                         REI / Yale Ave N & John St   SLU-01  47.619859   \n30  31                            Dexter Ave N & Aloha St   SLU-02  47.627735   \n31  32                     Republican St & Westlake Ave N   SLU-04  47.623165   \n32  33                      PATH / 9th Ave & Westlake Ave   SLU-07  47.618320   \n33  34                             Westlake Ave & 6th Ave   SLU-15  47.613628   \n34  35          Lake Union Park / Valley St & Boren Ave N   SLU-17  47.626041   \n35  36                             Dexter Ave & Denny Way   SLU-18  47.618285   \n36  37                Key Arena / 1st Ave N & Harrison St   SLU-19  47.622277   \n37  38  Burke-Gilman Trail / NE Blakeley St & 24th Ave NE    UD-01  47.666145   \n38  39                     NE 42nd St & University Way NE    UD-02  47.658288   \n39  40                          12th Ave & NE Campus Pkwy    UD-04  47.656395   \n40  41                           NE 47th St & 12th Ave NE    UD-07  47.663143   \n41  42                       UW McCarty Hall / Whitman Ct    UW-01  47.660268   \n42  43  Burke Museum / E Stevens Way NE & Memorial Way NE    UW-02  47.659756   \n43  44                           15th Ave NE & NE 40th St    UW-04  47.655590   \n44  45  UW Engineering Library / E Stevens Way NE & Je...    UW-06  47.654613   \n45  46                  UW Intramural Activities Building    UW-07  47.653713   \n46  47  UW Magnuson Health Sciences Center Rotunda / C...    UW-10  47.650725   \n47  48                    Pier 69 / Alaskan Way & Clay St    WF-01  47.614315   \n48  49  Seattle Aquarium / Alaskan Way S & Elliott Bay...    WF-04  47.607702   \n49  50                                1st Ave & Marion St   CBD-05  47.604058   \n50  60                            12th Ave & E Yesler Way    CD-01  47.602103   \n51  62                             Terry Ave & Stewart St   SLU-20  47.616260   \n52  63                                 Union St & 4th Ave   CBD-04  47.609221   \n53  65                              Mercer St & 9th Ave N   SLU-21  47.624769   \n\n          long  dockcount      online  \n0  -122.350964         18  10/13/2014  \n1  -122.348564         16  10/13/2014  \n2  -122.341102         16  10/13/2014  \n3  -122.344208         14  10/13/2014  \n4  -122.339641         18  10/13/2014  \n5  -122.332447         20  10/13/2014  \n6  -122.330409         18  10/13/2014  \n7  -122.331777         20  10/13/2014  \n8  -122.335768         20  10/13/2014  \n9  -122.325249         16  10/13/2014  \n10 -122.321251         20  10/13/2014  \n11 -122.325279         16  10/13/2014  \n12 -122.312805         16  10/13/2014  \n13 -122.317017         15  10/13/2014  \n14 -122.311752         18  10/13/2014  \n15 -122.318245         26  10/13/2014  \n16 -122.322083         16  10/13/2014  \n17 -122.326729         18  10/13/2014  \n18 -122.316811         16  10/13/2014  \n19 -122.339617         18  10/13/2014  \n20 -122.284119         24  10/13/2014  \n21 -122.332576         16  10/13/2014  \n22 -122.326634         18  10/13/2014  \n23 -122.322983         17  10/13/2014  \n24 -122.324783         15  10/13/2014  \n25 -122.316651         20  10/13/2014  \n26 -122.326412         16  10/13/2014  \n27 -122.329684         18  10/13/2014  \n28 -122.332946         18  10/13/2014  \n29 -122.330304         20  10/13/2014  \n30 -122.342232         18  10/13/2014  \n31 -122.338203         18  10/13/2014  \n32 -122.338913         18  10/13/2014  \n33 -122.337341         20  10/13/2014  \n34 -122.335831         16  10/13/2014  \n35 -122.342205         20  10/13/2014  \n36 -122.355230         16  10/13/2014  \n37 -122.301491         18  10/13/2014  \n38 -122.313334         18  10/13/2014  \n39 -122.315620         16  10/13/2014  \n40 -122.315086         16  10/13/2014  \n41 -122.304826         16  10/13/2014  \n42 -122.310402         14  10/13/2014  \n43 -122.311890         16  10/13/2014  \n44 -122.304863         14  10/13/2014  \n45 -122.302162         14  10/13/2014  \n46 -122.311188         14  10/13/2014  \n47 -122.354093         24  10/13/2014  \n48 -122.341650         18  10/13/2014  \n49 -122.335800         20  10/13/2014  \n50 -122.316923         16   5/21/2015  \n51 -122.333815         20   6/12/2015  \n52 -122.335596         18   7/22/2015  \n53 -122.339408         20   9/19/2015  ",
      "text/html": "<div>\n<style scoped>\n    .dataframe tbody tr th:only-of-type {\n        vertical-align: middle;\n    }\n\n    .dataframe tbody tr th {\n        vertical-align: top;\n    }\n\n    .dataframe thead th {\n        text-align: right;\n    }\n</style>\n<table border=\"1\" class=\"dataframe\">\n  <thead>\n    <tr style=\"text-align: right;\">\n      <th></th>\n      <th>id</th>\n      <th>name</th>\n      <th>terminal</th>\n      <th>lat</th>\n      <th>long</th>\n      <th>dockcount</th>\n      <th>online</th>\n    </tr>\n  </thead>\n  <tbody>\n    <tr>\n      <th>0</th>\n      <td>1</td>\n      <td>3rd Ave &amp; Broad St</td>\n      <td>BT-01</td>\n      <td>47.618418</td>\n      <td>-122.350964</td>\n      <td>18</td>\n      <td>10/13/2014</td>\n    </tr>\n    <tr>\n      <th>1</th>\n      <td>2</td>\n      <td>2nd Ave &amp; Vine St</td>\n      <td>BT-03</td>\n      <td>47.615829</td>\n      <td>-122.348564</td>\n      <td>16</td>\n      <td>10/13/2014</td>\n    </tr>\n    <tr>\n      <th>2</th>\n      <td>3</td>\n      <td>6th Ave &amp; Blanchard St</td>\n      <td>BT-04</td>\n      <td>47.616094</td>\n      <td>-122.341102</td>\n      <td>16</td>\n      <td>10/13/2014</td>\n    </tr>\n    <tr>\n      <th>3</th>\n      <td>4</td>\n      <td>2nd Ave &amp; Blanchard St</td>\n      <td>BT-05</td>\n      <td>47.613110</td>\n      <td>-122.344208</td>\n      <td>14</td>\n      <td>10/13/2014</td>\n    </tr>\n    <tr>\n      <th>4</th>\n      <td>5</td>\n      <td>2nd Ave &amp; Pine St</td>\n      <td>CBD-13</td>\n      <td>47.610185</td>\n      <td>-122.339641</td>\n      <td>18</td>\n      <td>10/13/2014</td>\n    </tr>\n    <tr>\n      <th>5</th>\n      <td>6</td>\n      <td>7th Ave &amp; Union St</td>\n      <td>CBD-03</td>\n      <td>47.610731</td>\n      <td>-122.332447</td>\n      <td>20</td>\n      <td>10/13/2014</td>\n    </tr>\n    <tr>\n      <th>6</th>\n      <td>7</td>\n      <td>City Hall / 4th Ave &amp; James St</td>\n      <td>CBD-07</td>\n      <td>47.603509</td>\n      <td>-122.330409</td>\n      <td>18</td>\n      <td>10/13/2014</td>\n    </tr>\n    <tr>\n      <th>7</th>\n      <td>8</td>\n      <td>Pine St &amp; 9th Ave</td>\n      <td>SLU-16</td>\n      <td>47.613715</td>\n      <td>-122.331777</td>\n      <td>20</td>\n      <td>10/13/2014</td>\n    </tr>\n    <tr>\n      <th>8</th>\n      <td>9</td>\n      <td>2nd Ave &amp; Spring St</td>\n      <td>CBD-06</td>\n      <td>47.605950</td>\n      <td>-122.335768</td>\n      <td>20</td>\n      <td>10/13/2014</td>\n    </tr>\n    <tr>\n      <th>9</th>\n      <td>10</td>\n      <td>Summit Ave &amp; E Denny Way</td>\n      <td>CH-01</td>\n      <td>47.618633</td>\n      <td>-122.325249</td>\n      <td>16</td>\n      <td>10/13/2014</td>\n    </tr>\n    <tr>\n      <th>10</th>\n      <td>11</td>\n      <td>E Harrison St &amp; Broadway Ave E</td>\n      <td>CH-02</td>\n      <td>47.622063</td>\n      <td>-122.321251</td>\n      <td>20</td>\n      <td>10/13/2014</td>\n    </tr>\n    <tr>\n      <th>11</th>\n      <td>12</td>\n      <td>Summit Ave E &amp; E Republican St</td>\n      <td>CH-03</td>\n      <td>47.623367</td>\n      <td>-122.325279</td>\n      <td>16</td>\n      <td>10/13/2014</td>\n    </tr>\n    <tr>\n      <th>12</th>\n      <td>13</td>\n      <td>15th Ave E &amp; E Thomas St</td>\n      <td>CH-05</td>\n      <td>47.620712</td>\n      <td>-122.312805</td>\n      <td>16</td>\n      <td>10/13/2014</td>\n    </tr>\n    <tr>\n      <th>13</th>\n      <td>14</td>\n      <td>12th Ave &amp; E Denny Way</td>\n      <td>CH-06</td>\n      <td>47.618549</td>\n      <td>-122.317017</td>\n      <td>15</td>\n      <td>10/13/2014</td>\n    </tr>\n    <tr>\n      <th>14</th>\n      <td>15</td>\n      <td>E Pine St &amp; 16th Ave</td>\n      <td>CH-07</td>\n      <td>47.615330</td>\n      <td>-122.311752</td>\n      <td>18</td>\n      <td>10/13/2014</td>\n    </tr>\n    <tr>\n      <th>15</th>\n      <td>16</td>\n      <td>Cal Anderson Park / 11th Ave &amp; Pine St</td>\n      <td>CH-08</td>\n      <td>47.615486</td>\n      <td>-122.318245</td>\n      <td>26</td>\n      <td>10/13/2014</td>\n    </tr>\n    <tr>\n      <th>16</th>\n      <td>17</td>\n      <td>Harvard Ave &amp; E Pine St</td>\n      <td>CH-09</td>\n      <td>47.615517</td>\n      <td>-122.322083</td>\n      <td>16</td>\n      <td>10/13/2014</td>\n    </tr>\n    <tr>\n      <th>17</th>\n      <td>18</td>\n      <td>Bellevue Ave &amp; E Pine St</td>\n      <td>CH-12</td>\n      <td>47.615456</td>\n      <td>-122.326729</td>\n      <td>18</td>\n      <td>10/13/2014</td>\n    </tr>\n    <tr>\n      <th>18</th>\n      <td>19</td>\n      <td>12th Ave &amp; E Mercer St</td>\n      <td>CH-15</td>\n      <td>47.624142</td>\n      <td>-122.316811</td>\n      <td>16</td>\n      <td>10/13/2014</td>\n    </tr>\n    <tr>\n      <th>19</th>\n      <td>20</td>\n      <td>9th Ave N &amp; Mercer St</td>\n      <td>DPD-01</td>\n      <td>47.624298</td>\n      <td>-122.339617</td>\n      <td>18</td>\n      <td>10/13/2014</td>\n    </tr>\n    <tr>\n      <th>20</th>\n      <td>21</td>\n      <td>Children's Hospital / Sandpoint Way NE &amp; 40th ...</td>\n      <td>DPD-03</td>\n      <td>47.663509</td>\n      <td>-122.284119</td>\n      <td>24</td>\n      <td>10/13/2014</td>\n    </tr>\n    <tr>\n      <th>21</th>\n      <td>22</td>\n      <td>Fred Hutchinson Cancer Research Center / Fairv...</td>\n      <td>EL-01</td>\n      <td>47.627643</td>\n      <td>-122.332576</td>\n      <td>16</td>\n      <td>10/13/2014</td>\n    </tr>\n    <tr>\n      <th>22</th>\n      <td>23</td>\n      <td>E Blaine St &amp; Fairview Ave E</td>\n      <td>EL-03</td>\n      <td>47.634831</td>\n      <td>-122.326634</td>\n      <td>18</td>\n      <td>10/13/2014</td>\n    </tr>\n    <tr>\n      <th>23</th>\n      <td>24</td>\n      <td>Eastlake Ave E &amp; E Allison St</td>\n      <td>EL-05</td>\n      <td>47.649090</td>\n      <td>-122.322983</td>\n      <td>17</td>\n      <td>10/13/2014</td>\n    </tr>\n    <tr>\n      <th>24</th>\n      <td>25</td>\n      <td>Frye Art Museum / Terry Ave &amp; Columbia St</td>\n      <td>FH-01</td>\n      <td>47.607281</td>\n      <td>-122.324783</td>\n      <td>15</td>\n      <td>10/13/2014</td>\n    </tr>\n    <tr>\n      <th>25</th>\n      <td>26</td>\n      <td>Seattle University / E Columbia St &amp; 12th Ave</td>\n      <td>FH-04</td>\n      <td>47.609239</td>\n      <td>-122.316651</td>\n      <td>20</td>\n      <td>10/13/2014</td>\n    </tr>\n    <tr>\n      <th>26</th>\n      <td>27</td>\n      <td>6th Ave S &amp; S King St</td>\n      <td>ID-04</td>\n      <td>47.598488</td>\n      <td>-122.326412</td>\n      <td>16</td>\n      <td>10/13/2014</td>\n    </tr>\n    <tr>\n      <th>27</th>\n      <td>28</td>\n      <td>King Street Station Plaza / 2nd Ave Extension ...</td>\n      <td>PS-05</td>\n      <td>47.598994</td>\n      <td>-122.329684</td>\n      <td>18</td>\n      <td>10/13/2014</td>\n    </tr>\n    <tr>\n      <th>28</th>\n      <td>29</td>\n      <td>Occidental Park / Occidental Ave S &amp; S Washing...</td>\n      <td>PS-04</td>\n      <td>47.600757</td>\n      <td>-122.332946</td>\n      <td>18</td>\n      <td>10/13/2014</td>\n    </tr>\n    <tr>\n      <th>29</th>\n      <td>30</td>\n      <td>REI / Yale Ave N &amp; John St</td>\n      <td>SLU-01</td>\n      <td>47.619859</td>\n      <td>-122.330304</td>\n      <td>20</td>\n      <td>10/13/2014</td>\n    </tr>\n    <tr>\n      <th>30</th>\n      <td>31</td>\n      <td>Dexter Ave N &amp; Aloha St</td>\n      <td>SLU-02</td>\n      <td>47.627735</td>\n      <td>-122.342232</td>\n      <td>18</td>\n      <td>10/13/2014</td>\n    </tr>\n    <tr>\n      <th>31</th>\n      <td>32</td>\n      <td>Republican St &amp; Westlake Ave N</td>\n      <td>SLU-04</td>\n      <td>47.623165</td>\n      <td>-122.338203</td>\n      <td>18</td>\n      <td>10/13/2014</td>\n    </tr>\n    <tr>\n      <th>32</th>\n      <td>33</td>\n      <td>PATH / 9th Ave &amp; Westlake Ave</td>\n      <td>SLU-07</td>\n      <td>47.618320</td>\n      <td>-122.338913</td>\n      <td>18</td>\n      <td>10/13/2014</td>\n    </tr>\n    <tr>\n      <th>33</th>\n      <td>34</td>\n      <td>Westlake Ave &amp; 6th Ave</td>\n      <td>SLU-15</td>\n      <td>47.613628</td>\n      <td>-122.337341</td>\n      <td>20</td>\n      <td>10/13/2014</td>\n    </tr>\n    <tr>\n      <th>34</th>\n      <td>35</td>\n      <td>Lake Union Park / Valley St &amp; Boren Ave N</td>\n      <td>SLU-17</td>\n      <td>47.626041</td>\n      <td>-122.335831</td>\n      <td>16</td>\n      <td>10/13/2014</td>\n    </tr>\n    <tr>\n      <th>35</th>\n      <td>36</td>\n      <td>Dexter Ave &amp; Denny Way</td>\n      <td>SLU-18</td>\n      <td>47.618285</td>\n      <td>-122.342205</td>\n      <td>20</td>\n      <td>10/13/2014</td>\n    </tr>\n    <tr>\n      <th>36</th>\n      <td>37</td>\n      <td>Key Arena / 1st Ave N &amp; Harrison St</td>\n      <td>SLU-19</td>\n      <td>47.622277</td>\n      <td>-122.355230</td>\n      <td>16</td>\n      <td>10/13/2014</td>\n    </tr>\n    <tr>\n      <th>37</th>\n      <td>38</td>\n      <td>Burke-Gilman Trail / NE Blakeley St &amp; 24th Ave NE</td>\n      <td>UD-01</td>\n      <td>47.666145</td>\n      <td>-122.301491</td>\n      <td>18</td>\n      <td>10/13/2014</td>\n    </tr>\n    <tr>\n      <th>38</th>\n      <td>39</td>\n      <td>NE 42nd St &amp; University Way NE</td>\n      <td>UD-02</td>\n      <td>47.658288</td>\n      <td>-122.313334</td>\n      <td>18</td>\n      <td>10/13/2014</td>\n    </tr>\n    <tr>\n      <th>39</th>\n      <td>40</td>\n      <td>12th Ave &amp; NE Campus Pkwy</td>\n      <td>UD-04</td>\n      <td>47.656395</td>\n      <td>-122.315620</td>\n      <td>16</td>\n      <td>10/13/2014</td>\n    </tr>\n    <tr>\n      <th>40</th>\n      <td>41</td>\n      <td>NE 47th St &amp; 12th Ave NE</td>\n      <td>UD-07</td>\n      <td>47.663143</td>\n      <td>-122.315086</td>\n      <td>16</td>\n      <td>10/13/2014</td>\n    </tr>\n    <tr>\n      <th>41</th>\n      <td>42</td>\n      <td>UW McCarty Hall / Whitman Ct</td>\n      <td>UW-01</td>\n      <td>47.660268</td>\n      <td>-122.304826</td>\n      <td>16</td>\n      <td>10/13/2014</td>\n    </tr>\n    <tr>\n      <th>42</th>\n      <td>43</td>\n      <td>Burke Museum / E Stevens Way NE &amp; Memorial Way NE</td>\n      <td>UW-02</td>\n      <td>47.659756</td>\n      <td>-122.310402</td>\n      <td>14</td>\n      <td>10/13/2014</td>\n    </tr>\n    <tr>\n      <th>43</th>\n      <td>44</td>\n      <td>15th Ave NE &amp; NE 40th St</td>\n      <td>UW-04</td>\n      <td>47.655590</td>\n      <td>-122.311890</td>\n      <td>16</td>\n      <td>10/13/2014</td>\n    </tr>\n    <tr>\n      <th>44</th>\n      <td>45</td>\n      <td>UW Engineering Library / E Stevens Way NE &amp; Je...</td>\n      <td>UW-06</td>\n      <td>47.654613</td>\n      <td>-122.304863</td>\n      <td>14</td>\n      <td>10/13/2014</td>\n    </tr>\n    <tr>\n      <th>45</th>\n      <td>46</td>\n      <td>UW Intramural Activities Building</td>\n      <td>UW-07</td>\n      <td>47.653713</td>\n      <td>-122.302162</td>\n      <td>14</td>\n      <td>10/13/2014</td>\n    </tr>\n    <tr>\n      <th>46</th>\n      <td>47</td>\n      <td>UW Magnuson Health Sciences Center Rotunda / C...</td>\n      <td>UW-10</td>\n      <td>47.650725</td>\n      <td>-122.311188</td>\n      <td>14</td>\n      <td>10/13/2014</td>\n    </tr>\n    <tr>\n      <th>47</th>\n      <td>48</td>\n      <td>Pier 69 / Alaskan Way &amp; Clay St</td>\n      <td>WF-01</td>\n      <td>47.614315</td>\n      <td>-122.354093</td>\n      <td>24</td>\n      <td>10/13/2014</td>\n    </tr>\n    <tr>\n      <th>48</th>\n      <td>49</td>\n      <td>Seattle Aquarium / Alaskan Way S &amp; Elliott Bay...</td>\n      <td>WF-04</td>\n      <td>47.607702</td>\n      <td>-122.341650</td>\n      <td>18</td>\n      <td>10/13/2014</td>\n    </tr>\n    <tr>\n      <th>49</th>\n      <td>50</td>\n      <td>1st Ave &amp; Marion St</td>\n      <td>CBD-05</td>\n      <td>47.604058</td>\n      <td>-122.335800</td>\n      <td>20</td>\n      <td>10/13/2014</td>\n    </tr>\n    <tr>\n      <th>50</th>\n      <td>60</td>\n      <td>12th Ave &amp; E Yesler Way</td>\n      <td>CD-01</td>\n      <td>47.602103</td>\n      <td>-122.316923</td>\n      <td>16</td>\n      <td>5/21/2015</td>\n    </tr>\n    <tr>\n      <th>51</th>\n      <td>62</td>\n      <td>Terry Ave &amp; Stewart St</td>\n      <td>SLU-20</td>\n      <td>47.616260</td>\n      <td>-122.333815</td>\n      <td>20</td>\n      <td>6/12/2015</td>\n    </tr>\n    <tr>\n      <th>52</th>\n      <td>63</td>\n      <td>Union St &amp; 4th Ave</td>\n      <td>CBD-04</td>\n      <td>47.609221</td>\n      <td>-122.335596</td>\n      <td>18</td>\n      <td>7/22/2015</td>\n    </tr>\n    <tr>\n      <th>53</th>\n      <td>65</td>\n      <td>Mercer St &amp; 9th Ave N</td>\n      <td>SLU-21</td>\n      <td>47.624769</td>\n      <td>-122.339408</td>\n      <td>20</td>\n      <td>9/19/2015</td>\n    </tr>\n  </tbody>\n</table>\n</div>"
     },
     "execution_count": 10,
     "metadata": {},
     "output_type": "execute_result"
    }
   ],
   "source": [
    "cleaner.data[key]"
   ],
   "metadata": {
    "collapsed": false,
    "pycharm": {
     "name": "#%%\n"
    }
   }
  },
  {
   "cell_type": "code",
   "execution_count": 11,
   "outputs": [
    {
     "data": {
      "text/plain": "Empty DataFrame\nColumns: [id, name, terminal, lat, long, dockcount, online]\nIndex: []",
      "text/html": "<div>\n<style scoped>\n    .dataframe tbody tr th:only-of-type {\n        vertical-align: middle;\n    }\n\n    .dataframe tbody tr th {\n        vertical-align: top;\n    }\n\n    .dataframe thead th {\n        text-align: right;\n    }\n</style>\n<table border=\"1\" class=\"dataframe\">\n  <thead>\n    <tr style=\"text-align: right;\">\n      <th></th>\n      <th>id</th>\n      <th>name</th>\n      <th>terminal</th>\n      <th>lat</th>\n      <th>long</th>\n      <th>dockcount</th>\n      <th>online</th>\n    </tr>\n  </thead>\n  <tbody>\n  </tbody>\n</table>\n</div>"
     },
     "execution_count": 11,
     "metadata": {},
     "output_type": "execute_result"
    }
   ],
   "source": [
    "cleaner.duplicated(key=key, subset=[\"id\"])"
   ],
   "metadata": {
    "collapsed": false,
    "pycharm": {
     "name": "#%%\n"
    }
   }
  },
  {
   "cell_type": "markdown",
   "source": [
    "The timestamp column is expressed as string, thus a conversion to datetime is required."
   ],
   "metadata": {
    "collapsed": false,
    "pycharm": {
     "name": "#%% md\n"
    }
   }
  },
  {
   "cell_type": "code",
   "execution_count": 12,
   "outputs": [],
   "source": [
    "cleaner.to_datetime(key=key, column=\"online\")"
   ],
   "metadata": {
    "collapsed": false,
    "pycharm": {
     "name": "#%%\n"
    }
   }
  },
  {
   "cell_type": "code",
   "execution_count": 13,
   "outputs": [
    {
     "name": "stdout",
     "output_type": "stream",
     "text": [
      "<class 'pandas.core.frame.DataFrame'>\n",
      "RangeIndex: 54 entries, 0 to 53\n",
      "Data columns (total 7 columns):\n",
      " #   Column     Non-Null Count  Dtype         \n",
      "---  ------     --------------  -----         \n",
      " 0   id         54 non-null     int64         \n",
      " 1   name       54 non-null     object        \n",
      " 2   terminal   54 non-null     object        \n",
      " 3   lat        54 non-null     float64       \n",
      " 4   long       54 non-null     float64       \n",
      " 5   dockcount  54 non-null     int64         \n",
      " 6   online     54 non-null     datetime64[ns]\n",
      "dtypes: datetime64[ns](1), float64(2), int64(2), object(2)\n",
      "memory usage: 3.1+ KB\n"
     ]
    }
   ],
   "source": [
    "cleaner.data[key].info()"
   ],
   "metadata": {
    "collapsed": false,
    "pycharm": {
     "name": "#%%\n"
    }
   }
  },
  {
   "cell_type": "markdown",
   "source": [
    "### Status"
   ],
   "metadata": {
    "collapsed": false,
    "pycharm": {
     "name": "#%% md\n"
    }
   }
  },
  {
   "cell_type": "code",
   "execution_count": 14,
   "outputs": [],
   "source": [
    "key = \"status\""
   ],
   "metadata": {
    "collapsed": false,
    "pycharm": {
     "name": "#%%\n"
    }
   }
  },
  {
   "cell_type": "code",
   "execution_count": 15,
   "outputs": [
    {
     "data": {
      "text/plain": "          station_id  bikes_available  docks_available  bikes_blocked  \\\n0                  1                0               16              2   \n1                  2                4               12              0   \n2                  3                7                8              1   \n3                  4                3               11              0   \n4                  5                7               10              1   \n...              ...              ...              ...            ...   \n26061833          50                7               13              0   \n26061834          60                6               10              0   \n26061835          62                6               14              0   \n26061836          63                8                9              1   \n26061837          65                4               16              0   \n\n          docks_blocked                 time  \n0                     0  2014-10-15 08:29:47  \n1                     0  2014-10-15 08:29:47  \n2                     0  2014-10-15 08:29:47  \n3                     0  2014-10-15 08:29:47  \n4                     0  2014-10-15 08:29:47  \n...                 ...                  ...  \n26061833              0  2015-10-12 23:59:28  \n26061834              0  2015-10-12 23:59:28  \n26061835              0  2015-10-12 23:59:28  \n26061836              0  2015-10-12 23:59:28  \n26061837              0  2015-10-12 23:59:28  \n\n[26061838 rows x 6 columns]",
      "text/html": "<div>\n<style scoped>\n    .dataframe tbody tr th:only-of-type {\n        vertical-align: middle;\n    }\n\n    .dataframe tbody tr th {\n        vertical-align: top;\n    }\n\n    .dataframe thead th {\n        text-align: right;\n    }\n</style>\n<table border=\"1\" class=\"dataframe\">\n  <thead>\n    <tr style=\"text-align: right;\">\n      <th></th>\n      <th>station_id</th>\n      <th>bikes_available</th>\n      <th>docks_available</th>\n      <th>bikes_blocked</th>\n      <th>docks_blocked</th>\n      <th>time</th>\n    </tr>\n  </thead>\n  <tbody>\n    <tr>\n      <th>0</th>\n      <td>1</td>\n      <td>0</td>\n      <td>16</td>\n      <td>2</td>\n      <td>0</td>\n      <td>2014-10-15 08:29:47</td>\n    </tr>\n    <tr>\n      <th>1</th>\n      <td>2</td>\n      <td>4</td>\n      <td>12</td>\n      <td>0</td>\n      <td>0</td>\n      <td>2014-10-15 08:29:47</td>\n    </tr>\n    <tr>\n      <th>2</th>\n      <td>3</td>\n      <td>7</td>\n      <td>8</td>\n      <td>1</td>\n      <td>0</td>\n      <td>2014-10-15 08:29:47</td>\n    </tr>\n    <tr>\n      <th>3</th>\n      <td>4</td>\n      <td>3</td>\n      <td>11</td>\n      <td>0</td>\n      <td>0</td>\n      <td>2014-10-15 08:29:47</td>\n    </tr>\n    <tr>\n      <th>4</th>\n      <td>5</td>\n      <td>7</td>\n      <td>10</td>\n      <td>1</td>\n      <td>0</td>\n      <td>2014-10-15 08:29:47</td>\n    </tr>\n    <tr>\n      <th>...</th>\n      <td>...</td>\n      <td>...</td>\n      <td>...</td>\n      <td>...</td>\n      <td>...</td>\n      <td>...</td>\n    </tr>\n    <tr>\n      <th>26061833</th>\n      <td>50</td>\n      <td>7</td>\n      <td>13</td>\n      <td>0</td>\n      <td>0</td>\n      <td>2015-10-12 23:59:28</td>\n    </tr>\n    <tr>\n      <th>26061834</th>\n      <td>60</td>\n      <td>6</td>\n      <td>10</td>\n      <td>0</td>\n      <td>0</td>\n      <td>2015-10-12 23:59:28</td>\n    </tr>\n    <tr>\n      <th>26061835</th>\n      <td>62</td>\n      <td>6</td>\n      <td>14</td>\n      <td>0</td>\n      <td>0</td>\n      <td>2015-10-12 23:59:28</td>\n    </tr>\n    <tr>\n      <th>26061836</th>\n      <td>63</td>\n      <td>8</td>\n      <td>9</td>\n      <td>1</td>\n      <td>0</td>\n      <td>2015-10-12 23:59:28</td>\n    </tr>\n    <tr>\n      <th>26061837</th>\n      <td>65</td>\n      <td>4</td>\n      <td>16</td>\n      <td>0</td>\n      <td>0</td>\n      <td>2015-10-12 23:59:28</td>\n    </tr>\n  </tbody>\n</table>\n<p>26061838 rows × 6 columns</p>\n</div>"
     },
     "execution_count": 15,
     "metadata": {},
     "output_type": "execute_result"
    }
   ],
   "source": [
    "cleaner.data[key]"
   ],
   "metadata": {
    "collapsed": false,
    "pycharm": {
     "name": "#%%\n"
    }
   }
  },
  {
   "cell_type": "code",
   "execution_count": 16,
   "outputs": [
    {
     "data": {
      "text/plain": "Empty DataFrame\nColumns: [station_id, bikes_available, docks_available, bikes_blocked, docks_blocked, time]\nIndex: []",
      "text/html": "<div>\n<style scoped>\n    .dataframe tbody tr th:only-of-type {\n        vertical-align: middle;\n    }\n\n    .dataframe tbody tr th {\n        vertical-align: top;\n    }\n\n    .dataframe thead th {\n        text-align: right;\n    }\n</style>\n<table border=\"1\" class=\"dataframe\">\n  <thead>\n    <tr style=\"text-align: right;\">\n      <th></th>\n      <th>station_id</th>\n      <th>bikes_available</th>\n      <th>docks_available</th>\n      <th>bikes_blocked</th>\n      <th>docks_blocked</th>\n      <th>time</th>\n    </tr>\n  </thead>\n  <tbody>\n  </tbody>\n</table>\n</div>"
     },
     "execution_count": 16,
     "metadata": {},
     "output_type": "execute_result"
    }
   ],
   "source": [
    "cleaner.duplicated(key=key, subset=[\"time\", \"station_id\"])"
   ],
   "metadata": {
    "collapsed": false,
    "pycharm": {
     "name": "#%%\n"
    }
   }
  },
  {
   "cell_type": "markdown",
   "source": [
    "The timestamp column is expressed as string, thus a conversion to datetime is required."
   ],
   "metadata": {
    "collapsed": false,
    "pycharm": {
     "name": "#%% md\n"
    }
   }
  },
  {
   "cell_type": "code",
   "execution_count": 17,
   "outputs": [],
   "source": [
    "cleaner.to_datetime(key=key, column=\"time\")"
   ],
   "metadata": {
    "collapsed": false,
    "pycharm": {
     "name": "#%%\n"
    }
   }
  },
  {
   "cell_type": "code",
   "execution_count": 18,
   "outputs": [
    {
     "name": "stdout",
     "output_type": "stream",
     "text": [
      "<class 'pandas.core.frame.DataFrame'>\n",
      "RangeIndex: 26061838 entries, 0 to 26061837\n",
      "Data columns (total 6 columns):\n",
      " #   Column           Dtype         \n",
      "---  ------           -----         \n",
      " 0   station_id       int64         \n",
      " 1   bikes_available  int64         \n",
      " 2   docks_available  int64         \n",
      " 3   bikes_blocked    int64         \n",
      " 4   docks_blocked    int64         \n",
      " 5   time             datetime64[ns]\n",
      "dtypes: datetime64[ns](1), int64(5)\n",
      "memory usage: 1.2 GB\n"
     ]
    }
   ],
   "source": [
    "cleaner.data[key].info()"
   ],
   "metadata": {
    "collapsed": false,
    "pycharm": {
     "name": "#%%\n"
    }
   }
  },
  {
   "cell_type": "markdown",
   "source": [
    "### Weather"
   ],
   "metadata": {
    "collapsed": false,
    "pycharm": {
     "name": "#%% md\n"
    }
   }
  },
  {
   "cell_type": "code",
   "execution_count": 19,
   "outputs": [],
   "source": [
    "key = \"weather\""
   ],
   "metadata": {
    "collapsed": false,
    "pycharm": {
     "name": "#%%\n"
    }
   }
  },
  {
   "cell_type": "code",
   "execution_count": 20,
   "outputs": [
    {
     "data": {
      "text/plain": "           Date  Max_Temperature_F  Mean_Temperature_F  Min_TemperatureF  \\\n0    10/13/2014               71.0                62.0              54.0   \n1    10/14/2014               63.0                59.0              55.0   \n2    10/15/2014               62.0                58.0              54.0   \n3    10/16/2014               71.0                61.0              52.0   \n4    10/17/2014               64.0                60.0              57.0   \n..          ...                ...                 ...               ...   \n361   10/9/2015               70.0                62.0              55.0   \n362  10/10/2015               72.0                66.0              60.0   \n363  10/11/2015               66.0                60.0              54.0   \n364  10/12/2015               68.0                61.0              54.0   \n365         NaN                NaN                 NaN               NaN   \n\n     Max_Dew_Point_F  MeanDew_Point_F  Min_Dewpoint_F  Max_Humidity  \\\n0               55.0             51.0            46.0          87.0   \n1               52.0             51.0            50.0          88.0   \n2               53.0             50.0            46.0          87.0   \n3               49.0             46.0            42.0          83.0   \n4               55.0             51.0            41.0          87.0   \n..               ...              ...             ...           ...   \n361             59.0             55.0            50.0          94.0   \n362             62.0             57.0            51.0          88.0   \n363             51.0             49.0            46.0          84.0   \n364             61.0             53.0            46.0          94.0   \n365              NaN              NaN             NaN           NaN   \n\n     Mean_Humidity   Min_Humidity   ...  Mean_Sea_Level_Pressure_In   \\\n0              68.0           46.0  ...                        29.79   \n1              78.0           63.0  ...                        29.75   \n2              77.0           67.0  ...                        29.71   \n3              61.0           36.0  ...                        29.95   \n4              72.0           46.0  ...                        29.78   \n..              ...            ...  ...                          ...   \n361            77.0           63.0  ...                        29.94   \n362            79.0           57.0  ...                        29.75   \n363            69.0           50.0  ...                        30.12   \n364            76.0           59.0  ...                        30.10   \n365             NaN            NaN  ...                          NaN   \n\n     Min_Sea_Level_Pressure_In   Max_Visibility_Miles   \\\n0                         29.65                   10.0   \n1                         29.54                   10.0   \n2                         29.51                   10.0   \n3                         29.81                   10.0   \n4                         29.73                   10.0   \n..                          ...                    ...   \n361                       29.90                   10.0   \n362                       29.57                   10.0   \n363                       30.00                   10.0   \n364                       30.05                   10.0   \n365                         NaN                    NaN   \n\n     Mean_Visibility_Miles   Min_Visibility_Miles   Max_Wind_Speed_MPH   \\\n0                      10.0                    4.0                 13.0   \n1                       9.0                    3.0                 10.0   \n2                       9.0                    3.0                 18.0   \n3                      10.0                   10.0                  9.0   \n4                      10.0                    6.0                  8.0   \n..                      ...                    ...                  ...   \n361                     7.0                    0.0                  9.0   \n362                     8.0                    3.0                 16.0   \n363                    10.0                   10.0                 10.0   \n364                     7.0                    2.0                 12.0   \n365                     NaN                    NaN                  NaN   \n\n     Mean_Wind_Speed_MPH   Max_Gust_Speed_MPH Precipitation_In       Events  \n0                     4.0                  21              0.00        Rain  \n1                     5.0                  17              0.11        Rain  \n2                     7.0                  25              0.45        Rain  \n3                     4.0                   -              0.00        Rain  \n4                     3.0                   -              0.14        Rain  \n..                    ...                 ...               ...         ...  \n361                   4.0                   -              0.01  Fog , Rain  \n362                   8.0                  29              0.77        Rain  \n363                   5.0                   -              0.00         NaN  \n364                   6.0                  21              0.34        Rain  \n365                   NaN                 NaN               NaN         NaN  \n\n[366 rows x 21 columns]",
      "text/html": "<div>\n<style scoped>\n    .dataframe tbody tr th:only-of-type {\n        vertical-align: middle;\n    }\n\n    .dataframe tbody tr th {\n        vertical-align: top;\n    }\n\n    .dataframe thead th {\n        text-align: right;\n    }\n</style>\n<table border=\"1\" class=\"dataframe\">\n  <thead>\n    <tr style=\"text-align: right;\">\n      <th></th>\n      <th>Date</th>\n      <th>Max_Temperature_F</th>\n      <th>Mean_Temperature_F</th>\n      <th>Min_TemperatureF</th>\n      <th>Max_Dew_Point_F</th>\n      <th>MeanDew_Point_F</th>\n      <th>Min_Dewpoint_F</th>\n      <th>Max_Humidity</th>\n      <th>Mean_Humidity</th>\n      <th>Min_Humidity</th>\n      <th>...</th>\n      <th>Mean_Sea_Level_Pressure_In</th>\n      <th>Min_Sea_Level_Pressure_In</th>\n      <th>Max_Visibility_Miles</th>\n      <th>Mean_Visibility_Miles</th>\n      <th>Min_Visibility_Miles</th>\n      <th>Max_Wind_Speed_MPH</th>\n      <th>Mean_Wind_Speed_MPH</th>\n      <th>Max_Gust_Speed_MPH</th>\n      <th>Precipitation_In</th>\n      <th>Events</th>\n    </tr>\n  </thead>\n  <tbody>\n    <tr>\n      <th>0</th>\n      <td>10/13/2014</td>\n      <td>71.0</td>\n      <td>62.0</td>\n      <td>54.0</td>\n      <td>55.0</td>\n      <td>51.0</td>\n      <td>46.0</td>\n      <td>87.0</td>\n      <td>68.0</td>\n      <td>46.0</td>\n      <td>...</td>\n      <td>29.79</td>\n      <td>29.65</td>\n      <td>10.0</td>\n      <td>10.0</td>\n      <td>4.0</td>\n      <td>13.0</td>\n      <td>4.0</td>\n      <td>21</td>\n      <td>0.00</td>\n      <td>Rain</td>\n    </tr>\n    <tr>\n      <th>1</th>\n      <td>10/14/2014</td>\n      <td>63.0</td>\n      <td>59.0</td>\n      <td>55.0</td>\n      <td>52.0</td>\n      <td>51.0</td>\n      <td>50.0</td>\n      <td>88.0</td>\n      <td>78.0</td>\n      <td>63.0</td>\n      <td>...</td>\n      <td>29.75</td>\n      <td>29.54</td>\n      <td>10.0</td>\n      <td>9.0</td>\n      <td>3.0</td>\n      <td>10.0</td>\n      <td>5.0</td>\n      <td>17</td>\n      <td>0.11</td>\n      <td>Rain</td>\n    </tr>\n    <tr>\n      <th>2</th>\n      <td>10/15/2014</td>\n      <td>62.0</td>\n      <td>58.0</td>\n      <td>54.0</td>\n      <td>53.0</td>\n      <td>50.0</td>\n      <td>46.0</td>\n      <td>87.0</td>\n      <td>77.0</td>\n      <td>67.0</td>\n      <td>...</td>\n      <td>29.71</td>\n      <td>29.51</td>\n      <td>10.0</td>\n      <td>9.0</td>\n      <td>3.0</td>\n      <td>18.0</td>\n      <td>7.0</td>\n      <td>25</td>\n      <td>0.45</td>\n      <td>Rain</td>\n    </tr>\n    <tr>\n      <th>3</th>\n      <td>10/16/2014</td>\n      <td>71.0</td>\n      <td>61.0</td>\n      <td>52.0</td>\n      <td>49.0</td>\n      <td>46.0</td>\n      <td>42.0</td>\n      <td>83.0</td>\n      <td>61.0</td>\n      <td>36.0</td>\n      <td>...</td>\n      <td>29.95</td>\n      <td>29.81</td>\n      <td>10.0</td>\n      <td>10.0</td>\n      <td>10.0</td>\n      <td>9.0</td>\n      <td>4.0</td>\n      <td>-</td>\n      <td>0.00</td>\n      <td>Rain</td>\n    </tr>\n    <tr>\n      <th>4</th>\n      <td>10/17/2014</td>\n      <td>64.0</td>\n      <td>60.0</td>\n      <td>57.0</td>\n      <td>55.0</td>\n      <td>51.0</td>\n      <td>41.0</td>\n      <td>87.0</td>\n      <td>72.0</td>\n      <td>46.0</td>\n      <td>...</td>\n      <td>29.78</td>\n      <td>29.73</td>\n      <td>10.0</td>\n      <td>10.0</td>\n      <td>6.0</td>\n      <td>8.0</td>\n      <td>3.0</td>\n      <td>-</td>\n      <td>0.14</td>\n      <td>Rain</td>\n    </tr>\n    <tr>\n      <th>...</th>\n      <td>...</td>\n      <td>...</td>\n      <td>...</td>\n      <td>...</td>\n      <td>...</td>\n      <td>...</td>\n      <td>...</td>\n      <td>...</td>\n      <td>...</td>\n      <td>...</td>\n      <td>...</td>\n      <td>...</td>\n      <td>...</td>\n      <td>...</td>\n      <td>...</td>\n      <td>...</td>\n      <td>...</td>\n      <td>...</td>\n      <td>...</td>\n      <td>...</td>\n      <td>...</td>\n    </tr>\n    <tr>\n      <th>361</th>\n      <td>10/9/2015</td>\n      <td>70.0</td>\n      <td>62.0</td>\n      <td>55.0</td>\n      <td>59.0</td>\n      <td>55.0</td>\n      <td>50.0</td>\n      <td>94.0</td>\n      <td>77.0</td>\n      <td>63.0</td>\n      <td>...</td>\n      <td>29.94</td>\n      <td>29.90</td>\n      <td>10.0</td>\n      <td>7.0</td>\n      <td>0.0</td>\n      <td>9.0</td>\n      <td>4.0</td>\n      <td>-</td>\n      <td>0.01</td>\n      <td>Fog , Rain</td>\n    </tr>\n    <tr>\n      <th>362</th>\n      <td>10/10/2015</td>\n      <td>72.0</td>\n      <td>66.0</td>\n      <td>60.0</td>\n      <td>62.0</td>\n      <td>57.0</td>\n      <td>51.0</td>\n      <td>88.0</td>\n      <td>79.0</td>\n      <td>57.0</td>\n      <td>...</td>\n      <td>29.75</td>\n      <td>29.57</td>\n      <td>10.0</td>\n      <td>8.0</td>\n      <td>3.0</td>\n      <td>16.0</td>\n      <td>8.0</td>\n      <td>29</td>\n      <td>0.77</td>\n      <td>Rain</td>\n    </tr>\n    <tr>\n      <th>363</th>\n      <td>10/11/2015</td>\n      <td>66.0</td>\n      <td>60.0</td>\n      <td>54.0</td>\n      <td>51.0</td>\n      <td>49.0</td>\n      <td>46.0</td>\n      <td>84.0</td>\n      <td>69.0</td>\n      <td>50.0</td>\n      <td>...</td>\n      <td>30.12</td>\n      <td>30.00</td>\n      <td>10.0</td>\n      <td>10.0</td>\n      <td>10.0</td>\n      <td>10.0</td>\n      <td>5.0</td>\n      <td>-</td>\n      <td>0.00</td>\n      <td>NaN</td>\n    </tr>\n    <tr>\n      <th>364</th>\n      <td>10/12/2015</td>\n      <td>68.0</td>\n      <td>61.0</td>\n      <td>54.0</td>\n      <td>61.0</td>\n      <td>53.0</td>\n      <td>46.0</td>\n      <td>94.0</td>\n      <td>76.0</td>\n      <td>59.0</td>\n      <td>...</td>\n      <td>30.10</td>\n      <td>30.05</td>\n      <td>10.0</td>\n      <td>7.0</td>\n      <td>2.0</td>\n      <td>12.0</td>\n      <td>6.0</td>\n      <td>21</td>\n      <td>0.34</td>\n      <td>Rain</td>\n    </tr>\n    <tr>\n      <th>365</th>\n      <td>NaN</td>\n      <td>NaN</td>\n      <td>NaN</td>\n      <td>NaN</td>\n      <td>NaN</td>\n      <td>NaN</td>\n      <td>NaN</td>\n      <td>NaN</td>\n      <td>NaN</td>\n      <td>NaN</td>\n      <td>...</td>\n      <td>NaN</td>\n      <td>NaN</td>\n      <td>NaN</td>\n      <td>NaN</td>\n      <td>NaN</td>\n      <td>NaN</td>\n      <td>NaN</td>\n      <td>NaN</td>\n      <td>NaN</td>\n      <td>NaN</td>\n    </tr>\n  </tbody>\n</table>\n<p>366 rows × 21 columns</p>\n</div>"
     },
     "execution_count": 20,
     "metadata": {},
     "output_type": "execute_result"
    }
   ],
   "source": [
    "cleaner.data[key]"
   ],
   "metadata": {
    "collapsed": false,
    "pycharm": {
     "name": "#%%\n"
    }
   }
  },
  {
   "cell_type": "code",
   "execution_count": 21,
   "outputs": [
    {
     "data": {
      "text/plain": "Empty DataFrame\nColumns: [Date, Max_Temperature_F, Mean_Temperature_F, Min_TemperatureF, Max_Dew_Point_F, MeanDew_Point_F, Min_Dewpoint_F, Max_Humidity, Mean_Humidity , Min_Humidity , Max_Sea_Level_Pressure_In , Mean_Sea_Level_Pressure_In , Min_Sea_Level_Pressure_In , Max_Visibility_Miles , Mean_Visibility_Miles , Min_Visibility_Miles , Max_Wind_Speed_MPH , Mean_Wind_Speed_MPH , Max_Gust_Speed_MPH, Precipitation_In , Events]\nIndex: []\n\n[0 rows x 21 columns]",
      "text/html": "<div>\n<style scoped>\n    .dataframe tbody tr th:only-of-type {\n        vertical-align: middle;\n    }\n\n    .dataframe tbody tr th {\n        vertical-align: top;\n    }\n\n    .dataframe thead th {\n        text-align: right;\n    }\n</style>\n<table border=\"1\" class=\"dataframe\">\n  <thead>\n    <tr style=\"text-align: right;\">\n      <th></th>\n      <th>Date</th>\n      <th>Max_Temperature_F</th>\n      <th>Mean_Temperature_F</th>\n      <th>Min_TemperatureF</th>\n      <th>Max_Dew_Point_F</th>\n      <th>MeanDew_Point_F</th>\n      <th>Min_Dewpoint_F</th>\n      <th>Max_Humidity</th>\n      <th>Mean_Humidity</th>\n      <th>Min_Humidity</th>\n      <th>...</th>\n      <th>Mean_Sea_Level_Pressure_In</th>\n      <th>Min_Sea_Level_Pressure_In</th>\n      <th>Max_Visibility_Miles</th>\n      <th>Mean_Visibility_Miles</th>\n      <th>Min_Visibility_Miles</th>\n      <th>Max_Wind_Speed_MPH</th>\n      <th>Mean_Wind_Speed_MPH</th>\n      <th>Max_Gust_Speed_MPH</th>\n      <th>Precipitation_In</th>\n      <th>Events</th>\n    </tr>\n  </thead>\n  <tbody>\n  </tbody>\n</table>\n<p>0 rows × 21 columns</p>\n</div>"
     },
     "execution_count": 21,
     "metadata": {},
     "output_type": "execute_result"
    }
   ],
   "source": [
    "cleaner.duplicated(key=key, subset=[\"Date\"])"
   ],
   "metadata": {
    "collapsed": false,
    "pycharm": {
     "name": "#%%\n"
    }
   }
  },
  {
   "cell_type": "markdown",
   "source": [
    "The timestamp column is expressed as string, thus a conversion to datetime is required."
   ],
   "metadata": {
    "collapsed": false,
    "pycharm": {
     "name": "#%% md\n"
    }
   }
  },
  {
   "cell_type": "code",
   "execution_count": 22,
   "outputs": [],
   "source": [
    "cleaner.to_datetime(key=key, column=\"Date\")"
   ],
   "metadata": {
    "collapsed": false,
    "pycharm": {
     "name": "#%%\n"
    }
   }
  },
  {
   "cell_type": "code",
   "execution_count": 23,
   "outputs": [
    {
     "name": "stdout",
     "output_type": "stream",
     "text": [
      "<class 'pandas.core.frame.DataFrame'>\n",
      "RangeIndex: 366 entries, 0 to 365\n",
      "Data columns (total 21 columns):\n",
      " #   Column                       Non-Null Count  Dtype         \n",
      "---  ------                       --------------  -----         \n",
      " 0   Date                         365 non-null    datetime64[ns]\n",
      " 1   Max_Temperature_F            365 non-null    float64       \n",
      " 2   Mean_Temperature_F           365 non-null    float64       \n",
      " 3   Min_TemperatureF             365 non-null    float64       \n",
      " 4   Max_Dew_Point_F              365 non-null    float64       \n",
      " 5   MeanDew_Point_F              365 non-null    float64       \n",
      " 6   Min_Dewpoint_F               365 non-null    float64       \n",
      " 7   Max_Humidity                 365 non-null    float64       \n",
      " 8   Mean_Humidity                365 non-null    float64       \n",
      " 9   Min_Humidity                 365 non-null    float64       \n",
      " 10  Max_Sea_Level_Pressure_In    365 non-null    float64       \n",
      " 11  Mean_Sea_Level_Pressure_In   365 non-null    float64       \n",
      " 12  Min_Sea_Level_Pressure_In    365 non-null    float64       \n",
      " 13  Max_Visibility_Miles         365 non-null    float64       \n",
      " 14  Mean_Visibility_Miles        365 non-null    float64       \n",
      " 15  Min_Visibility_Miles         365 non-null    float64       \n",
      " 16  Max_Wind_Speed_MPH           365 non-null    float64       \n",
      " 17  Mean_Wind_Speed_MPH          365 non-null    float64       \n",
      " 18  Max_Gust_Speed_MPH           365 non-null    object        \n",
      " 19  Precipitation_In             365 non-null    float64       \n",
      " 20  Events                       161 non-null    object        \n",
      "dtypes: datetime64[ns](1), float64(18), object(2)\n",
      "memory usage: 60.2+ KB\n"
     ]
    }
   ],
   "source": [
    "cleaner.data[key].info()"
   ],
   "metadata": {
    "collapsed": false,
    "pycharm": {
     "name": "#%%\n"
    }
   }
  },
  {
   "cell_type": "code",
   "execution_count": 24,
   "outputs": [],
   "source": [
    "cleaner.serialize(data=cleaner.data, serial_path=\"data/cleaned.pickle\")"
   ],
   "metadata": {
    "collapsed": false,
    "pycharm": {
     "name": "#%%\n"
    }
   }
  }
 ],
 "metadata": {
  "kernelspec": {
   "display_name": "Python 3 (ipykernel)",
   "language": "python",
   "name": "python3"
  },
  "language_info": {
   "codemirror_mode": {
    "name": "ipython",
    "version": 3
   },
   "file_extension": ".py",
   "mimetype": "text/x-python",
   "name": "python",
   "nbconvert_exporter": "python",
   "pygments_lexer": "ipython3",
   "version": "3.9.12"
  }
 },
 "nbformat": 4,
 "nbformat_minor": 5
}